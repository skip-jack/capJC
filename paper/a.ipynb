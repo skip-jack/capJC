{
 "cells": [
  {
   "cell_type": "code",
   "execution_count": 19,
   "metadata": {},
   "outputs": [],
   "source": [
    "# Import necessary libraries\n",
    "import cv2\n",
    "import numpy as np\n",
    "import os\n",
    "from glob import glob\n",
    "from sklearn.model_selection import train_test_split\n",
    "import matplotlib.pyplot as plt\n",
    "from tensorflow.keras.models import Sequential, Model, load_model\n",
    "from tensorflow.keras.layers import Conv2D, MaxPooling2D, Flatten, Dense, Dropout, Convolution2D, Activation\n",
    "from tensorflow.keras.utils import to_categorical\n",
    "from tensorflow.keras.preprocessing.image import img_to_array\n",
    "import tensorflow as tf\n",
    "import gdown\n",
    "from deepface.basemodels import VGGFace\n",
    "from deepface.commons import functions"
   ]
  },
  {
   "cell_type": "code",
   "execution_count": 20,
   "metadata": {},
   "outputs": [],
   "source": [
    "# Check TensorFlow version for compatibility\n",
    "tf_version = int(tf.__version__.split(\".\", maxsplit=1)[0])\n",
    "if tf_version == 1:\n",
    "    from keras.models import Model, Sequential\n",
    "    from keras.layers import Convolution2D, Flatten, Activation\n",
    "elif tf_version == 2:\n",
    "    from tensorflow.keras.models import Model, Sequential\n",
    "    from tensorflow.keras.layers import Convolution2D, Flatten, Activation\n"
   ]
  },
  {
   "cell_type": "code",
   "execution_count": 21,
   "metadata": {},
   "outputs": [],
   "source": [
    "race_mapping = {\n",
    "    0: \"White\",\n",
    "    1: \"Black\",\n",
    "    2: \"Asian\",\n",
    "    3: \"Indian\",\n",
    "    4: \"Others\"  # Others include Hispanic, Latino, Middle Eastern, etc.\n",
    "}\n"
   ]
  },
  {
   "cell_type": "code",
   "execution_count": 22,
   "metadata": {},
   "outputs": [],
   "source": [
    "# Function to preprocess a single image\n",
    "def preprocess_image(image_path):\n",
    "    img = cv2.imread(image_path)\n",
    "    img = cv2.cvtColor(img, cv2.COLOR_BGR2RGB)\n",
    "    img = cv2.resize(img, (200, 200))\n",
    "    return img_to_array(img) / 255.0\n"
   ]
  },
  {
   "cell_type": "code",
   "execution_count": 23,
   "metadata": {},
   "outputs": [],
   "source": [
    "# Function to parse filename and extract labels\n",
    "def parse_labels(filename):\n",
    "    parts = os.path.basename(filename).split(\"_\")\n",
    "    age = int(parts[0])\n",
    "    gender = int(parts[1])\n",
    "    race = int(parts[2])\n",
    "    return age, gender, race"
   ]
  },
  {
   "cell_type": "code",
   "execution_count": 24,
   "metadata": {},
   "outputs": [],
   "source": [
    "# Data Generator\n",
    "\n",
    "def safe_parse_labels(filename):\n",
    "    try:\n",
    "        parts = os.path.basename(filename).split(\"_\")\n",
    "        if len(parts) < 3:  # Check if filename has enough parts\n",
    "            return None\n",
    "        age = int(parts[0])\n",
    "        gender = int(parts[1])\n",
    "        race = int(parts[2])\n",
    "        return age, gender, race\n",
    "    except ValueError:\n",
    "        return None\n"
   ]
  },
  {
   "cell_type": "code",
   "execution_count": 25,
   "metadata": {},
   "outputs": [],
   "source": [
    "def age_data_generator(file_paths, batch_size):\n",
    "    while True:\n",
    "        batch_paths = np.random.choice(a=file_paths, size=batch_size)\n",
    "        batch_input = []\n",
    "        batch_age_output = []\n",
    "\n",
    "        for input_path in batch_paths:\n",
    "            labels = safe_parse_labels(input_path)\n",
    "            if labels is None:  # Skip files with incorrect format\n",
    "                continue\n",
    "            image = preprocess_image(input_path)\n",
    "            age, _, _ = labels\n",
    "            batch_input.append(image)\n",
    "            batch_age_output.append(age)\n",
    "\n",
    "        if not batch_input:  # Skip batch if empty\n",
    "            continue\n",
    "\n",
    "        yield np.array(batch_input, dtype='float32'), np.array(batch_age_output, dtype='float32')"
   ]
  },
  {
   "cell_type": "code",
   "execution_count": 26,
   "metadata": {},
   "outputs": [],
   "source": [
    "def gender_data_generator(file_paths, batch_size):\n",
    "    while True:\n",
    "        batch_paths = np.random.choice(a=file_paths, size=batch_size)\n",
    "        batch_input = []\n",
    "        batch_gender_output = []\n",
    "\n",
    "        for input_path in batch_paths:\n",
    "            labels = safe_parse_labels(input_path)\n",
    "            if labels is None:  # Skip files with incorrect format\n",
    "                continue\n",
    "            image = preprocess_image(input_path)\n",
    "            _, gender, _ = labels\n",
    "            batch_input.append(image)\n",
    "            batch_gender_output.append(gender)\n",
    "\n",
    "        if not batch_input:  # Skip batch if empty\n",
    "            continue\n",
    "\n",
    "        yield np.array(batch_input, dtype='float32'), np.array(batch_gender_output, dtype='float32')"
   ]
  },
  {
   "cell_type": "code",
   "execution_count": 27,
   "metadata": {},
   "outputs": [],
   "source": [
    "def race_data_generator(file_paths, batch_size):\n",
    "    while True:\n",
    "        batch_paths = np.random.choice(a=file_paths, size=batch_size)\n",
    "        batch_input = []\n",
    "        batch_race_output = []\n",
    "\n",
    "        for input_path in batch_paths:\n",
    "            labels = safe_parse_labels(input_path)\n",
    "            if labels is None:  # Skip files with incorrect format\n",
    "                continue\n",
    "            image = preprocess_image(input_path)\n",
    "            _, _, race = labels\n",
    "            batch_input.append(image)\n",
    "            batch_race_output.append(race)\n",
    "\n",
    "        if not batch_input:  # Skip batch if empty\n",
    "            continue\n",
    "\n",
    "        # Convert race to categorical format\n",
    "        batch_race_output_categorical = to_categorical(batch_race_output, num_classes=len(race_mapping))\n",
    "\n",
    "        yield np.array(batch_input, dtype='float32'), batch_race_output_categorical\n",
    "\n",
    "        # Convert lists to numpy arrays\n",
    "        X = np.array(batch_input, dtype='float32')\n",
    "        Y_age = np.array(batch_age_output, dtype='float32')\n",
    "        Y_gender = np.array(batch_gender_output, dtype='float32')\n",
    "        Y_ethnicity = to_categorical(batch_ethnicity_output, num_classes=5)\n",
    "\n",
    "        yield X, {'age_output': Y_age, 'gender_output': Y_gender, 'ethnicity_output': Y_ethnicity}\n",
    "        \n"
   ]
  },
  {
   "cell_type": "code",
   "execution_count": 28,
   "metadata": {},
   "outputs": [],
   "source": [
    "# Path to your images directory\n",
    "images_directory = 'E:/capJC/paper/part1'  # Update with your path\n",
    "img_paths = glob(os.path.join(images_directory, \"*.jpg\"))\n",
    "\n",
    "# Splitting dataset into training and testing\n",
    "train_paths, test_paths = train_test_split(img_paths, test_size=0.2, random_state=42)\n",
    "\n",
    "# Define batch size\n",
    "batch_size = 32  # Adjust this based on your memory constraints\n",
    "\n",
    "# Training data generator\n",
    "# Training data generators\n",
    "train_age_generator = age_data_generator(train_paths, batch_size)\n",
    "train_gender_generator = gender_data_generator(train_paths, batch_size)"
   ]
  },
  {
   "cell_type": "code",
   "execution_count": 29,
   "metadata": {},
   "outputs": [],
   "source": [
    "# Define the age_model\n",
    "age_model = Sequential([\n",
    "    Conv2D(32, (3, 3), activation='relu', input_shape=(200, 200, 3)),\n",
    "    MaxPooling2D(2, 2),\n",
    "    Flatten(),\n",
    "    Dense(128, activation='relu'),\n",
    "    Dense(1, name='age_output')\n",
    "])\n",
    "age_model.compile(optimizer='adam', loss='mse', metrics=['mae'])"
   ]
  },
  {
   "cell_type": "code",
   "execution_count": 30,
   "metadata": {},
   "outputs": [],
   "source": [
    "# Define the gender_model\n",
    "gender_model = Sequential([\n",
    "    Conv2D(32, (3, 3), activation='relu', input_shape=(200, 200, 3)),\n",
    "    MaxPooling2D(2, 2),\n",
    "    Flatten(),\n",
    "    Dense(128, activation='relu'),\n",
    "    Dense(1, activation='sigmoid', name='gender_output')\n",
    "])\n",
    "gender_model.compile(optimizer='adam', loss='binary_crossentropy', metrics=['accuracy'])"
   ]
  },
  {
   "cell_type": "code",
   "execution_count": 31,
   "metadata": {},
   "outputs": [],
   "source": [
    "# Load pre-built model for ethnicity prediction\n",
    "def load_ethnicity_model(url=\"https://github.com/serengil/deepface_models/releases/download/v1.0/race_model_single_batch.h5\"):\n",
    "    model = VGGFace.baseModel()\n",
    "    classes = 6\n",
    "    base_model_output = Sequential()\n",
    "    base_model_output = Convolution2D(classes, (1, 1), name=\"predictions\")(model.layers[-4].output)\n",
    "    base_model_output = Flatten()(base_model_output)\n",
    "    base_model_output = Activation(\"softmax\")(base_model_output)\n",
    "    race_model = Model(inputs=model.input, outputs=base_model_output)\n",
    "\n",
    "    # Load weights\n",
    "    home = functions.get_deepface_home()\n",
    "    output = home + \"/.deepface/weights/race_model_single_batch.h5\"\n",
    "    if not os.path.isfile(output):\n",
    "        print(\"race_model_single_batch.h5 will be downloaded...\")\n",
    "        gdown.download(url, output, quiet=False)\n",
    "    race_model.load_weights(output)\n",
    "    return race_model\n",
    "\n",
    "ethnicity_model = load_ethnicity_model()"
   ]
  },
  {
   "cell_type": "code",
   "execution_count": 32,
   "metadata": {},
   "outputs": [],
   "source": [
    "def age_data_generator(file_paths, batch_size):\n",
    "    while True:\n",
    "        batch_paths = np.random.choice(a=file_paths, size=batch_size)\n",
    "        batch_input = []\n",
    "        batch_age_output = []\n",
    "\n",
    "        for input_path in batch_paths:\n",
    "            image = preprocess_image(input_path)\n",
    "            age, _, _ = parse_labels(input_path)\n",
    "\n",
    "            batch_input.append(image)\n",
    "            batch_age_output.append(age)\n",
    "\n",
    "        X = np.array(batch_input, dtype='float32')\n",
    "        Y_age = np.array(batch_age_output, dtype='float32')\n",
    "\n",
    "        yield X, Y_age"
   ]
  },
  {
   "cell_type": "code",
   "execution_count": 33,
   "metadata": {},
   "outputs": [],
   "source": [
    "def gender_data_generator(file_paths, batch_size):\n",
    "    while True:\n",
    "        batch_paths = np.random.choice(a=file_paths, size=batch_size)\n",
    "        batch_input = []\n",
    "        batch_gender_output = []\n",
    "\n",
    "        for input_path in batch_paths:\n",
    "            image = preprocess_image(input_path)\n",
    "            _, gender, _ = parse_labels(input_path)\n",
    "\n",
    "            batch_input.append(image)\n",
    "            batch_gender_output.append(gender)\n",
    "\n",
    "        X = np.array(batch_input, dtype='float32')\n",
    "        Y_gender = np.array(batch_gender_output, dtype='float32')\n",
    "\n",
    "        yield X, Y_gender"
   ]
  },
  {
   "cell_type": "code",
   "execution_count": 34,
   "metadata": {},
   "outputs": [],
   "source": [
    "# Training data generators\n",
    "train_age_generator = age_data_generator(train_paths, batch_size)\n",
    "train_gender_generator = gender_data_generator(train_paths, batch_size)"
   ]
  },
  {
   "cell_type": "code",
   "execution_count": 17,
   "metadata": {},
   "outputs": [
    {
     "name": "stdout",
     "output_type": "stream",
     "text": [
      "Epoch 1/10\n",
      "WARNING:tensorflow:From C:\\Users\\hvbvm\\AppData\\Roaming\\Python\\Python311\\site-packages\\keras\\src\\utils\\tf_utils.py:492: The name tf.ragged.RaggedTensorValue is deprecated. Please use tf.compat.v1.ragged.RaggedTensorValue instead.\n",
      "\n",
      "WARNING:tensorflow:From C:\\Users\\hvbvm\\AppData\\Roaming\\Python\\Python311\\site-packages\\keras\\src\\engine\\base_layer_utils.py:384: The name tf.executing_eagerly_outside_functions is deprecated. Please use tf.compat.v1.executing_eagerly_outside_functions instead.\n",
      "\n",
      " 12/602 [..............................] - ETA: 7:42 - loss: 2163.9846 - mae: 37.3752"
     ]
    },
    {
     "ename": "InvalidArgumentError",
     "evalue": "Graph execution error:\n\nDetected at node PyFunc defined at (most recent call last):\n<stack traces unavailable>\nValueError: invalid literal for int() with base 10: ''\nTraceback (most recent call last):\n\n  File \"C:\\Users\\hvbvm\\AppData\\Roaming\\Python\\Python311\\site-packages\\tensorflow\\python\\ops\\script_ops.py\", line 270, in __call__\n    ret = func(*args)\n          ^^^^^^^^^^^\n\n  File \"C:\\Users\\hvbvm\\AppData\\Roaming\\Python\\Python311\\site-packages\\tensorflow\\python\\autograph\\impl\\api.py\", line 643, in wrapper\n    return func(*args, **kwargs)\n           ^^^^^^^^^^^^^^^^^^^^^\n\n  File \"C:\\Users\\hvbvm\\AppData\\Roaming\\Python\\Python311\\site-packages\\tensorflow\\python\\data\\ops\\from_generator_op.py\", line 198, in generator_py_func\n    values = next(generator_state.get_iterator(iterator_id))\n             ^^^^^^^^^^^^^^^^^^^^^^^^^^^^^^^^^^^^^^^^^^^^^^^\n\n  File \"C:\\Users\\hvbvm\\AppData\\Roaming\\Python\\Python311\\site-packages\\keras\\src\\engine\\data_adapter.py\", line 917, in wrapped_generator\n    for data in generator_fn():\n\n  File \"C:\\Users\\hvbvm\\AppData\\Local\\Temp\\ipykernel_10664\\1484312716.py\", line 9, in age_data_generator\n    age, _, _ = parse_labels(input_path)\n                ^^^^^^^^^^^^^^^^^^^^^^^^\n\n  File \"C:\\Users\\hvbvm\\AppData\\Local\\Temp\\ipykernel_10664\\761029784.py\", line 5, in parse_labels\n    gender = int(parts[1])\n             ^^^^^^^^^^^^^\n\nValueError: invalid literal for int() with base 10: ''\n\n\n\t [[{{node PyFunc}}]]\n\t [[IteratorGetNext]] [Op:__inference_train_function_1730]",
     "output_type": "error",
     "traceback": [
      "\u001b[1;31m---------------------------------------------------------------------------\u001b[0m",
      "\u001b[1;31mInvalidArgumentError\u001b[0m                      Traceback (most recent call last)",
      "\u001b[1;32me:\\capJC\\paper\\a.ipynb Cell 17\u001b[0m line \u001b[0;36m5\n\u001b[0;32m      <a href='vscode-notebook-cell:/e%3A/capJC/paper/a.ipynb#X22sZmlsZQ%3D%3D?line=1'>2</a>\u001b[0m steps_per_epoch \u001b[39m=\u001b[39m \u001b[39mlen\u001b[39m(train_paths) \u001b[39m/\u001b[39m\u001b[39m/\u001b[39m batch_size\n\u001b[0;32m      <a href='vscode-notebook-cell:/e%3A/capJC/paper/a.ipynb#X22sZmlsZQ%3D%3D?line=3'>4</a>\u001b[0m \u001b[39m# Train the age model\u001b[39;00m\n\u001b[1;32m----> <a href='vscode-notebook-cell:/e%3A/capJC/paper/a.ipynb#X22sZmlsZQ%3D%3D?line=4'>5</a>\u001b[0m history_age \u001b[39m=\u001b[39m age_model\u001b[39m.\u001b[39;49mfit(\n\u001b[0;32m      <a href='vscode-notebook-cell:/e%3A/capJC/paper/a.ipynb#X22sZmlsZQ%3D%3D?line=5'>6</a>\u001b[0m     train_age_generator, \n\u001b[0;32m      <a href='vscode-notebook-cell:/e%3A/capJC/paper/a.ipynb#X22sZmlsZQ%3D%3D?line=6'>7</a>\u001b[0m     steps_per_epoch\u001b[39m=\u001b[39;49msteps_per_epoch, \n\u001b[0;32m      <a href='vscode-notebook-cell:/e%3A/capJC/paper/a.ipynb#X22sZmlsZQ%3D%3D?line=7'>8</a>\u001b[0m     epochs\u001b[39m=\u001b[39;49m\u001b[39m10\u001b[39;49m\n\u001b[0;32m      <a href='vscode-notebook-cell:/e%3A/capJC/paper/a.ipynb#X22sZmlsZQ%3D%3D?line=8'>9</a>\u001b[0m )\n\u001b[0;32m     <a href='vscode-notebook-cell:/e%3A/capJC/paper/a.ipynb#X22sZmlsZQ%3D%3D?line=10'>11</a>\u001b[0m \u001b[39m# Train the gender model\u001b[39;00m\n\u001b[0;32m     <a href='vscode-notebook-cell:/e%3A/capJC/paper/a.ipynb#X22sZmlsZQ%3D%3D?line=11'>12</a>\u001b[0m history_gender \u001b[39m=\u001b[39m gender_model\u001b[39m.\u001b[39mfit(\n\u001b[0;32m     <a href='vscode-notebook-cell:/e%3A/capJC/paper/a.ipynb#X22sZmlsZQ%3D%3D?line=12'>13</a>\u001b[0m     train_gender_generator, \n\u001b[0;32m     <a href='vscode-notebook-cell:/e%3A/capJC/paper/a.ipynb#X22sZmlsZQ%3D%3D?line=13'>14</a>\u001b[0m     steps_per_epoch\u001b[39m=\u001b[39msteps_per_epoch, \n\u001b[0;32m     <a href='vscode-notebook-cell:/e%3A/capJC/paper/a.ipynb#X22sZmlsZQ%3D%3D?line=14'>15</a>\u001b[0m     epochs\u001b[39m=\u001b[39m\u001b[39m10\u001b[39m\n\u001b[0;32m     <a href='vscode-notebook-cell:/e%3A/capJC/paper/a.ipynb#X22sZmlsZQ%3D%3D?line=15'>16</a>\u001b[0m )\n",
      "File \u001b[1;32m~\\AppData\\Roaming\\Python\\Python311\\site-packages\\keras\\src\\utils\\traceback_utils.py:70\u001b[0m, in \u001b[0;36mfilter_traceback.<locals>.error_handler\u001b[1;34m(*args, **kwargs)\u001b[0m\n\u001b[0;32m     67\u001b[0m     filtered_tb \u001b[39m=\u001b[39m _process_traceback_frames(e\u001b[39m.\u001b[39m__traceback__)\n\u001b[0;32m     68\u001b[0m     \u001b[39m# To get the full stack trace, call:\u001b[39;00m\n\u001b[0;32m     69\u001b[0m     \u001b[39m# `tf.debugging.disable_traceback_filtering()`\u001b[39;00m\n\u001b[1;32m---> 70\u001b[0m     \u001b[39mraise\u001b[39;00m e\u001b[39m.\u001b[39mwith_traceback(filtered_tb) \u001b[39mfrom\u001b[39;00m \u001b[39mNone\u001b[39;00m\n\u001b[0;32m     71\u001b[0m \u001b[39mfinally\u001b[39;00m:\n\u001b[0;32m     72\u001b[0m     \u001b[39mdel\u001b[39;00m filtered_tb\n",
      "File \u001b[1;32m~\\AppData\\Roaming\\Python\\Python311\\site-packages\\tensorflow\\python\\eager\\execute.py:53\u001b[0m, in \u001b[0;36mquick_execute\u001b[1;34m(op_name, num_outputs, inputs, attrs, ctx, name)\u001b[0m\n\u001b[0;32m     51\u001b[0m \u001b[39mtry\u001b[39;00m:\n\u001b[0;32m     52\u001b[0m   ctx\u001b[39m.\u001b[39mensure_initialized()\n\u001b[1;32m---> 53\u001b[0m   tensors \u001b[39m=\u001b[39m pywrap_tfe\u001b[39m.\u001b[39mTFE_Py_Execute(ctx\u001b[39m.\u001b[39m_handle, device_name, op_name,\n\u001b[0;32m     54\u001b[0m                                       inputs, attrs, num_outputs)\n\u001b[0;32m     55\u001b[0m \u001b[39mexcept\u001b[39;00m core\u001b[39m.\u001b[39m_NotOkStatusException \u001b[39mas\u001b[39;00m e:\n\u001b[0;32m     56\u001b[0m   \u001b[39mif\u001b[39;00m name \u001b[39mis\u001b[39;00m \u001b[39mnot\u001b[39;00m \u001b[39mNone\u001b[39;00m:\n",
      "\u001b[1;31mInvalidArgumentError\u001b[0m: Graph execution error:\n\nDetected at node PyFunc defined at (most recent call last):\n<stack traces unavailable>\nValueError: invalid literal for int() with base 10: ''\nTraceback (most recent call last):\n\n  File \"C:\\Users\\hvbvm\\AppData\\Roaming\\Python\\Python311\\site-packages\\tensorflow\\python\\ops\\script_ops.py\", line 270, in __call__\n    ret = func(*args)\n          ^^^^^^^^^^^\n\n  File \"C:\\Users\\hvbvm\\AppData\\Roaming\\Python\\Python311\\site-packages\\tensorflow\\python\\autograph\\impl\\api.py\", line 643, in wrapper\n    return func(*args, **kwargs)\n           ^^^^^^^^^^^^^^^^^^^^^\n\n  File \"C:\\Users\\hvbvm\\AppData\\Roaming\\Python\\Python311\\site-packages\\tensorflow\\python\\data\\ops\\from_generator_op.py\", line 198, in generator_py_func\n    values = next(generator_state.get_iterator(iterator_id))\n             ^^^^^^^^^^^^^^^^^^^^^^^^^^^^^^^^^^^^^^^^^^^^^^^\n\n  File \"C:\\Users\\hvbvm\\AppData\\Roaming\\Python\\Python311\\site-packages\\keras\\src\\engine\\data_adapter.py\", line 917, in wrapped_generator\n    for data in generator_fn():\n\n  File \"C:\\Users\\hvbvm\\AppData\\Local\\Temp\\ipykernel_10664\\1484312716.py\", line 9, in age_data_generator\n    age, _, _ = parse_labels(input_path)\n                ^^^^^^^^^^^^^^^^^^^^^^^^\n\n  File \"C:\\Users\\hvbvm\\AppData\\Local\\Temp\\ipykernel_10664\\761029784.py\", line 5, in parse_labels\n    gender = int(parts[1])\n             ^^^^^^^^^^^^^\n\nValueError: invalid literal for int() with base 10: ''\n\n\n\t [[{{node PyFunc}}]]\n\t [[IteratorGetNext]] [Op:__inference_train_function_1730]"
     ]
    }
   ],
   "source": [
    "# Calculate steps_per_epoch\n",
    "steps_per_epoch = len(train_paths) // batch_size\n",
    "\n",
    "# Train the age model\n",
    "history_age = age_model.fit(\n",
    "    train_age_generator, \n",
    "    steps_per_epoch=steps_per_epoch, \n",
    "    epochs=10\n",
    ")\n",
    "\n",
    "# Train the gender model\n",
    "history_gender = gender_model.fit(\n",
    "    train_gender_generator, \n",
    "    steps_per_epoch=steps_per_epoch, \n",
    "    epochs=10\n",
    ")\n"
   ]
  },
  {
   "cell_type": "code",
   "execution_count": null,
   "metadata": {},
   "outputs": [],
   "source": []
  },
  {
   "cell_type": "code",
   "execution_count": null,
   "metadata": {},
   "outputs": [],
   "source": [
    "# 4. Evaluate the Models and Visualize Performance Metrics\n",
    "# Evaluate Age Model\n",
    "\n",
    "#Age-test generator:\n",
    "\n",
    "def age_test_data_generator(file_paths, batch_size):\n",
    "    while True:\n",
    "        for i in range(0, len(file_paths), batch_size):\n",
    "            batch_paths = file_paths[i:i + batch_size]\n",
    "            batch_input = []\n",
    "            batch_age_output = []\n",
    "\n",
    "            for input_path in batch_paths:\n",
    "                labels = safe_parse_labels(input_path)\n",
    "                if labels is None:  # Skip files with incorrect format\n",
    "                    continue\n",
    "                image = preprocess_image(input_path)\n",
    "                age, _, _ = labels\n",
    "                batch_input.append(image)\n",
    "                batch_age_output.append(age)\n",
    "\n",
    "            yield np.array(batch_input, dtype='float32'), np.array(batch_age_output, dtype='float32')\n"
   ]
  },
  {
   "cell_type": "code",
   "execution_count": null,
   "metadata": {},
   "outputs": [
    {
     "name": "stdout",
     "output_type": "stream",
     "text": [
      "151/151 [==============================] - 39s 258ms/step - loss: 378.1849 - mae: 14.8367\n",
      "Age Model - Loss: 378.18487548828125 MAE: 14.836714744567871\n"
     ]
    }
   ],
   "source": [
    "#Evaluating the age_model:\n",
    "\n",
    "# Create test data generator for age\n",
    "test_age_generator = age_test_data_generator(test_paths, batch_size)\n",
    "\n",
    "# Calculate the number of steps needed for the test generator\n",
    "num_test_steps = len(test_paths) // batch_size + (len(test_paths) % batch_size != 0)\n",
    "\n",
    "# Evaluate Age Model\n",
    "age_loss, age_mae = age_model.evaluate(test_age_generator, steps=num_test_steps)\n",
    "print(\"Age Model - Loss:\", age_loss, \"MAE:\", age_mae)\n"
   ]
  },
  {
   "cell_type": "code",
   "execution_count": null,
   "metadata": {},
   "outputs": [],
   "source": [
    "# Evaluate Gender_Model:\n",
    "\n",
    "\n",
    "def gender_test_data_generator(file_paths, batch_size):\n",
    "    while True:\n",
    "        for i in range(0, len(file_paths), batch_size):\n",
    "            batch_paths = file_paths[i:i + batch_size]\n",
    "            batch_input = []\n",
    "            batch_gender_output = []\n",
    "\n",
    "            for input_path in batch_paths:\n",
    "                labels = safe_parse_labels(input_path)\n",
    "                if labels is None:  # Skip files with incorrect format\n",
    "                    continue\n",
    "                image = preprocess_image(input_path)\n",
    "                _, gender, _ = labels\n",
    "                batch_input.append(image)\n",
    "                batch_gender_output.append(gender)\n",
    "\n",
    "            yield np.array(batch_input, dtype='float32'), np.array(batch_gender_output, dtype='float32')\n"
   ]
  },
  {
   "cell_type": "code",
   "execution_count": null,
   "metadata": {},
   "outputs": [
    {
     "name": "stdout",
     "output_type": "stream",
     "text": [
      "151/151 [==============================] - 33s 216ms/step - loss: 1.4925 - accuracy: 0.6804\n",
      "Gender Model - Loss: 1.4925291538238525 Accuracy: 0.6804230809211731\n"
     ]
    }
   ],
   "source": [
    "# Create test data generator for gender\n",
    "test_gender_generator = gender_test_data_generator(test_paths, batch_size)\n",
    "\n",
    "# Calculate the number of steps needed for the test generator\n",
    "num_test_steps = len(test_paths) // batch_size + (len(test_paths) % batch_size != 0)\n",
    "\n",
    "# Evaluate Gender Model\n",
    "gender_loss, gender_acc = gender_model.evaluate(test_gender_generator, steps=num_test_steps)\n",
    "print(\"Gender Model - Loss:\", gender_loss, \"Accuracy:\", gender_acc)\n"
   ]
  },
  {
   "cell_type": "code",
   "execution_count": null,
   "metadata": {},
   "outputs": [],
   "source": [
    "# data generator for ethncity_detect:\n",
    "def ethnicity_test_data_generator(file_paths, batch_size):\n",
    "    while True:\n",
    "        for i in range(0, len(file_paths), batch_size):\n",
    "            batch_paths = file_paths[i:i + batch_size]\n",
    "            batch_input = []\n",
    "\n",
    "            for input_path in batch_paths:\n",
    "                image = preprocess_image(input_path)\n",
    "                batch_input.append(image)\n",
    "\n",
    "            yield np.array(batch_input, dtype='float32')\n",
    "\n",
    "# Create test data generator for ethnicity\n",
    "test_ethnicity_generator = ethnicity_test_data_generator(test_paths, batch_size)\n"
   ]
  },
  {
   "cell_type": "code",
   "execution_count": null,
   "metadata": {},
   "outputs": [],
   "source": [
    "#Ethnicity- Modified Image Preprocessing Function\n",
    "\n",
    "def preprocess_image(image_path):\n",
    "    img = cv2.imread(image_path)\n",
    "    img = cv2.cvtColor(img, cv2.COLOR_BGR2RGB)\n",
    "    img = cv2.resize(img, (224, 224))  # Resize to (224, 224)\n",
    "    return img_to_array(img) / 255.0\n"
   ]
  },
  {
   "cell_type": "code",
   "execution_count": null,
   "metadata": {},
   "outputs": [],
   "source": [
    "def ethnicity_test_data_generator(file_paths, batch_size):\n",
    "    while True:\n",
    "        for i in range(0, len(file_paths), batch_size):\n",
    "            batch_paths = file_paths[i:i + batch_size]\n",
    "            batch_input = []\n",
    "\n",
    "            for input_path in batch_paths:\n",
    "                image = preprocess_image(input_path)\n",
    "                batch_input.append(image)\n",
    "\n",
    "            yield np.array(batch_input, dtype='float32')\n"
   ]
  },
  {
   "cell_type": "code",
   "execution_count": null,
   "metadata": {},
   "outputs": [
    {
     "name": "stdout",
     "output_type": "stream",
     "text": [
      "1/1 [==============================] - 3s 3s/step\n",
      "1/1 [==============================] - 3s 3s/step\n",
      "1/1 [==============================] - 3s 3s/step\n",
      "1/1 [==============================] - 3s 3s/step\n"
     ]
    },
    {
     "ename": "KeyboardInterrupt",
     "evalue": "",
     "output_type": "error",
     "traceback": [
      "\u001b[1;31m---------------------------------------------------------------------------\u001b[0m",
      "\u001b[1;31mKeyboardInterrupt\u001b[0m                         Traceback (most recent call last)",
      "\u001b[1;32me:\\capJC\\paper\\a.ipynb Cell 26\u001b[0m line \u001b[0;36m6\n\u001b[0;32m     <a href='vscode-notebook-cell:/e%3A/capJC/paper/a.ipynb#X53sZmlsZQ%3D%3D?line=56'>57</a>\u001b[0m     \u001b[39mreturn\u001b[39;00m accuracy\n\u001b[0;32m     <a href='vscode-notebook-cell:/e%3A/capJC/paper/a.ipynb#X53sZmlsZQ%3D%3D?line=58'>59</a>\u001b[0m \u001b[39m# Example usage:\u001b[39;00m\n\u001b[0;32m     <a href='vscode-notebook-cell:/e%3A/capJC/paper/a.ipynb#X53sZmlsZQ%3D%3D?line=59'>60</a>\u001b[0m \u001b[39m# Assuming 'ethnicity_model' is your trained Keras model\u001b[39;00m\n\u001b[0;32m     <a href='vscode-notebook-cell:/e%3A/capJC/paper/a.ipynb#X53sZmlsZQ%3D%3D?line=60'>61</a>\u001b[0m \u001b[39m# Assuming 'test_paths' is a list of file paths for the test set\u001b[39;00m\n\u001b[0;32m     <a href='vscode-notebook-cell:/e%3A/capJC/paper/a.ipynb#X53sZmlsZQ%3D%3D?line=61'>62</a>\u001b[0m \u001b[39m# Assuming 'batch_size' is defined\u001b[39;00m\n\u001b[1;32m---> <a href='vscode-notebook-cell:/e%3A/capJC/paper/a.ipynb#X53sZmlsZQ%3D%3D?line=62'>63</a>\u001b[0m accuracy \u001b[39m=\u001b[39m calculate_accuracy(test_paths, ethnicity_data_generator, ethnicity_model, batch_size)\n\u001b[0;32m     <a href='vscode-notebook-cell:/e%3A/capJC/paper/a.ipynb#X53sZmlsZQ%3D%3D?line=63'>64</a>\u001b[0m \u001b[39mprint\u001b[39m(\u001b[39mf\u001b[39m\u001b[39m\"\u001b[39m\u001b[39mEthnicity prediction accuracy: \u001b[39m\u001b[39m{\u001b[39;00maccuracy\u001b[39m \u001b[39m\u001b[39m*\u001b[39m\u001b[39m \u001b[39m\u001b[39m100\u001b[39m\u001b[39m:\u001b[39;00m\u001b[39m.2f\u001b[39m\u001b[39m}\u001b[39;00m\u001b[39m%\u001b[39m\u001b[39m\"\u001b[39m)\n",
      "\u001b[1;32me:\\capJC\\paper\\a.ipynb Cell 26\u001b[0m line \u001b[0;36m3\n\u001b[0;32m     <a href='vscode-notebook-cell:/e%3A/capJC/paper/a.ipynb#X53sZmlsZQ%3D%3D?line=35'>36</a>\u001b[0m \u001b[39mfor\u001b[39;00m _ \u001b[39min\u001b[39;00m \u001b[39mrange\u001b[39m(num_steps):\n\u001b[0;32m     <a href='vscode-notebook-cell:/e%3A/capJC/paper/a.ipynb#X53sZmlsZQ%3D%3D?line=36'>37</a>\u001b[0m     images, labels \u001b[39m=\u001b[39m \u001b[39mnext\u001b[39m(generator)\n\u001b[1;32m---> <a href='vscode-notebook-cell:/e%3A/capJC/paper/a.ipynb#X53sZmlsZQ%3D%3D?line=37'>38</a>\u001b[0m     predictions_batch \u001b[39m=\u001b[39m model\u001b[39m.\u001b[39;49mpredict(images)\n\u001b[0;32m     <a href='vscode-notebook-cell:/e%3A/capJC/paper/a.ipynb#X53sZmlsZQ%3D%3D?line=38'>39</a>\u001b[0m     predicted_classes \u001b[39m=\u001b[39m np\u001b[39m.\u001b[39margmax(predictions_batch, axis\u001b[39m=\u001b[39m\u001b[39m1\u001b[39m)\n\u001b[0;32m     <a href='vscode-notebook-cell:/e%3A/capJC/paper/a.ipynb#X53sZmlsZQ%3D%3D?line=39'>40</a>\u001b[0m     true_classes \u001b[39m=\u001b[39m np\u001b[39m.\u001b[39margmax(labels, axis\u001b[39m=\u001b[39m\u001b[39m1\u001b[39m)\n",
      "File \u001b[1;32m~\\AppData\\Roaming\\Python\\Python311\\site-packages\\keras\\src\\utils\\traceback_utils.py:65\u001b[0m, in \u001b[0;36mfilter_traceback.<locals>.error_handler\u001b[1;34m(*args, **kwargs)\u001b[0m\n\u001b[0;32m     63\u001b[0m filtered_tb \u001b[39m=\u001b[39m \u001b[39mNone\u001b[39;00m\n\u001b[0;32m     64\u001b[0m \u001b[39mtry\u001b[39;00m:\n\u001b[1;32m---> 65\u001b[0m     \u001b[39mreturn\u001b[39;00m fn(\u001b[39m*\u001b[39;49margs, \u001b[39m*\u001b[39;49m\u001b[39m*\u001b[39;49mkwargs)\n\u001b[0;32m     66\u001b[0m \u001b[39mexcept\u001b[39;00m \u001b[39mException\u001b[39;00m \u001b[39mas\u001b[39;00m e:\n\u001b[0;32m     67\u001b[0m     filtered_tb \u001b[39m=\u001b[39m _process_traceback_frames(e\u001b[39m.\u001b[39m__traceback__)\n",
      "File \u001b[1;32m~\\AppData\\Roaming\\Python\\Python311\\site-packages\\keras\\src\\engine\\training.py:2655\u001b[0m, in \u001b[0;36mModel.predict\u001b[1;34m(self, x, batch_size, verbose, steps, callbacks, max_queue_size, workers, use_multiprocessing)\u001b[0m\n\u001b[0;32m   2653\u001b[0m \u001b[39mfor\u001b[39;00m step \u001b[39min\u001b[39;00m data_handler\u001b[39m.\u001b[39msteps():\n\u001b[0;32m   2654\u001b[0m     callbacks\u001b[39m.\u001b[39mon_predict_batch_begin(step)\n\u001b[1;32m-> 2655\u001b[0m     tmp_batch_outputs \u001b[39m=\u001b[39m \u001b[39mself\u001b[39;49m\u001b[39m.\u001b[39;49mpredict_function(iterator)\n\u001b[0;32m   2656\u001b[0m     \u001b[39mif\u001b[39;00m data_handler\u001b[39m.\u001b[39mshould_sync:\n\u001b[0;32m   2657\u001b[0m         context\u001b[39m.\u001b[39masync_wait()\n",
      "File \u001b[1;32m~\\AppData\\Roaming\\Python\\Python311\\site-packages\\tensorflow\\python\\util\\traceback_utils.py:150\u001b[0m, in \u001b[0;36mfilter_traceback.<locals>.error_handler\u001b[1;34m(*args, **kwargs)\u001b[0m\n\u001b[0;32m    148\u001b[0m filtered_tb \u001b[39m=\u001b[39m \u001b[39mNone\u001b[39;00m\n\u001b[0;32m    149\u001b[0m \u001b[39mtry\u001b[39;00m:\n\u001b[1;32m--> 150\u001b[0m   \u001b[39mreturn\u001b[39;00m fn(\u001b[39m*\u001b[39;49margs, \u001b[39m*\u001b[39;49m\u001b[39m*\u001b[39;49mkwargs)\n\u001b[0;32m    151\u001b[0m \u001b[39mexcept\u001b[39;00m \u001b[39mException\u001b[39;00m \u001b[39mas\u001b[39;00m e:\n\u001b[0;32m    152\u001b[0m   filtered_tb \u001b[39m=\u001b[39m _process_traceback_frames(e\u001b[39m.\u001b[39m__traceback__)\n",
      "File \u001b[1;32m~\\AppData\\Roaming\\Python\\Python311\\site-packages\\tensorflow\\python\\eager\\polymorphic_function\\polymorphic_function.py:832\u001b[0m, in \u001b[0;36mFunction.__call__\u001b[1;34m(self, *args, **kwds)\u001b[0m\n\u001b[0;32m    829\u001b[0m compiler \u001b[39m=\u001b[39m \u001b[39m\"\u001b[39m\u001b[39mxla\u001b[39m\u001b[39m\"\u001b[39m \u001b[39mif\u001b[39;00m \u001b[39mself\u001b[39m\u001b[39m.\u001b[39m_jit_compile \u001b[39melse\u001b[39;00m \u001b[39m\"\u001b[39m\u001b[39mnonXla\u001b[39m\u001b[39m\"\u001b[39m\n\u001b[0;32m    831\u001b[0m \u001b[39mwith\u001b[39;00m OptionalXlaContext(\u001b[39mself\u001b[39m\u001b[39m.\u001b[39m_jit_compile):\n\u001b[1;32m--> 832\u001b[0m   result \u001b[39m=\u001b[39m \u001b[39mself\u001b[39;49m\u001b[39m.\u001b[39;49m_call(\u001b[39m*\u001b[39;49margs, \u001b[39m*\u001b[39;49m\u001b[39m*\u001b[39;49mkwds)\n\u001b[0;32m    834\u001b[0m new_tracing_count \u001b[39m=\u001b[39m \u001b[39mself\u001b[39m\u001b[39m.\u001b[39mexperimental_get_tracing_count()\n\u001b[0;32m    835\u001b[0m without_tracing \u001b[39m=\u001b[39m (tracing_count \u001b[39m==\u001b[39m new_tracing_count)\n",
      "File \u001b[1;32m~\\AppData\\Roaming\\Python\\Python311\\site-packages\\tensorflow\\python\\eager\\polymorphic_function\\polymorphic_function.py:877\u001b[0m, in \u001b[0;36mFunction._call\u001b[1;34m(self, *args, **kwds)\u001b[0m\n\u001b[0;32m    874\u001b[0m \u001b[39mself\u001b[39m\u001b[39m.\u001b[39m_lock\u001b[39m.\u001b[39mrelease()\n\u001b[0;32m    875\u001b[0m \u001b[39m# In this case we have not created variables on the first call. So we can\u001b[39;00m\n\u001b[0;32m    876\u001b[0m \u001b[39m# run the first trace but we should fail if variables are created.\u001b[39;00m\n\u001b[1;32m--> 877\u001b[0m results \u001b[39m=\u001b[39m tracing_compilation\u001b[39m.\u001b[39;49mcall_function(\n\u001b[0;32m    878\u001b[0m     args, kwds, \u001b[39mself\u001b[39;49m\u001b[39m.\u001b[39;49m_variable_creation_config\n\u001b[0;32m    879\u001b[0m )\n\u001b[0;32m    880\u001b[0m \u001b[39mif\u001b[39;00m \u001b[39mself\u001b[39m\u001b[39m.\u001b[39m_created_variables:\n\u001b[0;32m    881\u001b[0m   \u001b[39mraise\u001b[39;00m \u001b[39mValueError\u001b[39;00m(\u001b[39m\"\u001b[39m\u001b[39mCreating variables on a non-first call to a function\u001b[39m\u001b[39m\"\u001b[39m\n\u001b[0;32m    882\u001b[0m                    \u001b[39m\"\u001b[39m\u001b[39m decorated with tf.function.\u001b[39m\u001b[39m\"\u001b[39m)\n",
      "File \u001b[1;32m~\\AppData\\Roaming\\Python\\Python311\\site-packages\\tensorflow\\python\\eager\\polymorphic_function\\tracing_compilation.py:139\u001b[0m, in \u001b[0;36mcall_function\u001b[1;34m(args, kwargs, tracing_options)\u001b[0m\n\u001b[0;32m    137\u001b[0m bound_args \u001b[39m=\u001b[39m function\u001b[39m.\u001b[39mfunction_type\u001b[39m.\u001b[39mbind(\u001b[39m*\u001b[39margs, \u001b[39m*\u001b[39m\u001b[39m*\u001b[39mkwargs)\n\u001b[0;32m    138\u001b[0m flat_inputs \u001b[39m=\u001b[39m function\u001b[39m.\u001b[39mfunction_type\u001b[39m.\u001b[39munpack_inputs(bound_args)\n\u001b[1;32m--> 139\u001b[0m \u001b[39mreturn\u001b[39;00m function\u001b[39m.\u001b[39;49m_call_flat(  \u001b[39m# pylint: disable=protected-access\u001b[39;49;00m\n\u001b[0;32m    140\u001b[0m     flat_inputs, captured_inputs\u001b[39m=\u001b[39;49mfunction\u001b[39m.\u001b[39;49mcaptured_inputs\n\u001b[0;32m    141\u001b[0m )\n",
      "File \u001b[1;32m~\\AppData\\Roaming\\Python\\Python311\\site-packages\\tensorflow\\python\\eager\\polymorphic_function\\concrete_function.py:1323\u001b[0m, in \u001b[0;36mConcreteFunction._call_flat\u001b[1;34m(self, tensor_inputs, captured_inputs)\u001b[0m\n\u001b[0;32m   1319\u001b[0m possible_gradient_type \u001b[39m=\u001b[39m gradients_util\u001b[39m.\u001b[39mPossibleTapeGradientTypes(args)\n\u001b[0;32m   1320\u001b[0m \u001b[39mif\u001b[39;00m (possible_gradient_type \u001b[39m==\u001b[39m gradients_util\u001b[39m.\u001b[39mPOSSIBLE_GRADIENT_TYPES_NONE\n\u001b[0;32m   1321\u001b[0m     \u001b[39mand\u001b[39;00m executing_eagerly):\n\u001b[0;32m   1322\u001b[0m   \u001b[39m# No tape is watching; skip to running the function.\u001b[39;00m\n\u001b[1;32m-> 1323\u001b[0m   \u001b[39mreturn\u001b[39;00m \u001b[39mself\u001b[39;49m\u001b[39m.\u001b[39;49m_inference_function\u001b[39m.\u001b[39;49mcall_preflattened(args)\n\u001b[0;32m   1324\u001b[0m forward_backward \u001b[39m=\u001b[39m \u001b[39mself\u001b[39m\u001b[39m.\u001b[39m_select_forward_and_backward_functions(\n\u001b[0;32m   1325\u001b[0m     args,\n\u001b[0;32m   1326\u001b[0m     possible_gradient_type,\n\u001b[0;32m   1327\u001b[0m     executing_eagerly)\n\u001b[0;32m   1328\u001b[0m forward_function, args_with_tangents \u001b[39m=\u001b[39m forward_backward\u001b[39m.\u001b[39mforward()\n",
      "File \u001b[1;32m~\\AppData\\Roaming\\Python\\Python311\\site-packages\\tensorflow\\python\\eager\\polymorphic_function\\atomic_function.py:216\u001b[0m, in \u001b[0;36mAtomicFunction.call_preflattened\u001b[1;34m(self, args)\u001b[0m\n\u001b[0;32m    214\u001b[0m \u001b[39mdef\u001b[39;00m \u001b[39mcall_preflattened\u001b[39m(\u001b[39mself\u001b[39m, args: Sequence[core\u001b[39m.\u001b[39mTensor]) \u001b[39m-\u001b[39m\u001b[39m>\u001b[39m Any:\n\u001b[0;32m    215\u001b[0m \u001b[39m  \u001b[39m\u001b[39m\"\"\"Calls with flattened tensor inputs and returns the structured output.\"\"\"\u001b[39;00m\n\u001b[1;32m--> 216\u001b[0m   flat_outputs \u001b[39m=\u001b[39m \u001b[39mself\u001b[39;49m\u001b[39m.\u001b[39;49mcall_flat(\u001b[39m*\u001b[39;49margs)\n\u001b[0;32m    217\u001b[0m   \u001b[39mreturn\u001b[39;00m \u001b[39mself\u001b[39m\u001b[39m.\u001b[39mfunction_type\u001b[39m.\u001b[39mpack_output(flat_outputs)\n",
      "File \u001b[1;32m~\\AppData\\Roaming\\Python\\Python311\\site-packages\\tensorflow\\python\\eager\\polymorphic_function\\atomic_function.py:251\u001b[0m, in \u001b[0;36mAtomicFunction.call_flat\u001b[1;34m(self, *args)\u001b[0m\n\u001b[0;32m    249\u001b[0m \u001b[39mwith\u001b[39;00m record\u001b[39m.\u001b[39mstop_recording():\n\u001b[0;32m    250\u001b[0m   \u001b[39mif\u001b[39;00m \u001b[39mself\u001b[39m\u001b[39m.\u001b[39m_bound_context\u001b[39m.\u001b[39mexecuting_eagerly():\n\u001b[1;32m--> 251\u001b[0m     outputs \u001b[39m=\u001b[39m \u001b[39mself\u001b[39;49m\u001b[39m.\u001b[39;49m_bound_context\u001b[39m.\u001b[39;49mcall_function(\n\u001b[0;32m    252\u001b[0m         \u001b[39mself\u001b[39;49m\u001b[39m.\u001b[39;49mname,\n\u001b[0;32m    253\u001b[0m         \u001b[39mlist\u001b[39;49m(args),\n\u001b[0;32m    254\u001b[0m         \u001b[39mlen\u001b[39;49m(\u001b[39mself\u001b[39;49m\u001b[39m.\u001b[39;49mfunction_type\u001b[39m.\u001b[39;49mflat_outputs),\n\u001b[0;32m    255\u001b[0m     )\n\u001b[0;32m    256\u001b[0m   \u001b[39melse\u001b[39;00m:\n\u001b[0;32m    257\u001b[0m     outputs \u001b[39m=\u001b[39m make_call_op_in_graph(\n\u001b[0;32m    258\u001b[0m         \u001b[39mself\u001b[39m,\n\u001b[0;32m    259\u001b[0m         \u001b[39mlist\u001b[39m(args),\n\u001b[0;32m    260\u001b[0m         \u001b[39mself\u001b[39m\u001b[39m.\u001b[39m_bound_context\u001b[39m.\u001b[39mfunction_call_options\u001b[39m.\u001b[39mas_attrs(),\n\u001b[0;32m    261\u001b[0m     )\n",
      "File \u001b[1;32m~\\AppData\\Roaming\\Python\\Python311\\site-packages\\tensorflow\\python\\eager\\context.py:1486\u001b[0m, in \u001b[0;36mContext.call_function\u001b[1;34m(self, name, tensor_inputs, num_outputs)\u001b[0m\n\u001b[0;32m   1484\u001b[0m cancellation_context \u001b[39m=\u001b[39m cancellation\u001b[39m.\u001b[39mcontext()\n\u001b[0;32m   1485\u001b[0m \u001b[39mif\u001b[39;00m cancellation_context \u001b[39mis\u001b[39;00m \u001b[39mNone\u001b[39;00m:\n\u001b[1;32m-> 1486\u001b[0m   outputs \u001b[39m=\u001b[39m execute\u001b[39m.\u001b[39;49mexecute(\n\u001b[0;32m   1487\u001b[0m       name\u001b[39m.\u001b[39;49mdecode(\u001b[39m\"\u001b[39;49m\u001b[39mutf-8\u001b[39;49m\u001b[39m\"\u001b[39;49m),\n\u001b[0;32m   1488\u001b[0m       num_outputs\u001b[39m=\u001b[39;49mnum_outputs,\n\u001b[0;32m   1489\u001b[0m       inputs\u001b[39m=\u001b[39;49mtensor_inputs,\n\u001b[0;32m   1490\u001b[0m       attrs\u001b[39m=\u001b[39;49mattrs,\n\u001b[0;32m   1491\u001b[0m       ctx\u001b[39m=\u001b[39;49m\u001b[39mself\u001b[39;49m,\n\u001b[0;32m   1492\u001b[0m   )\n\u001b[0;32m   1493\u001b[0m \u001b[39melse\u001b[39;00m:\n\u001b[0;32m   1494\u001b[0m   outputs \u001b[39m=\u001b[39m execute\u001b[39m.\u001b[39mexecute_with_cancellation(\n\u001b[0;32m   1495\u001b[0m       name\u001b[39m.\u001b[39mdecode(\u001b[39m\"\u001b[39m\u001b[39mutf-8\u001b[39m\u001b[39m\"\u001b[39m),\n\u001b[0;32m   1496\u001b[0m       num_outputs\u001b[39m=\u001b[39mnum_outputs,\n\u001b[1;32m   (...)\u001b[0m\n\u001b[0;32m   1500\u001b[0m       cancellation_manager\u001b[39m=\u001b[39mcancellation_context,\n\u001b[0;32m   1501\u001b[0m   )\n",
      "File \u001b[1;32m~\\AppData\\Roaming\\Python\\Python311\\site-packages\\tensorflow\\python\\eager\\execute.py:53\u001b[0m, in \u001b[0;36mquick_execute\u001b[1;34m(op_name, num_outputs, inputs, attrs, ctx, name)\u001b[0m\n\u001b[0;32m     51\u001b[0m \u001b[39mtry\u001b[39;00m:\n\u001b[0;32m     52\u001b[0m   ctx\u001b[39m.\u001b[39mensure_initialized()\n\u001b[1;32m---> 53\u001b[0m   tensors \u001b[39m=\u001b[39m pywrap_tfe\u001b[39m.\u001b[39;49mTFE_Py_Execute(ctx\u001b[39m.\u001b[39;49m_handle, device_name, op_name,\n\u001b[0;32m     54\u001b[0m                                       inputs, attrs, num_outputs)\n\u001b[0;32m     55\u001b[0m \u001b[39mexcept\u001b[39;00m core\u001b[39m.\u001b[39m_NotOkStatusException \u001b[39mas\u001b[39;00m e:\n\u001b[0;32m     56\u001b[0m   \u001b[39mif\u001b[39;00m name \u001b[39mis\u001b[39;00m \u001b[39mnot\u001b[39;00m \u001b[39mNone\u001b[39;00m:\n",
      "\u001b[1;31mKeyboardInterrupt\u001b[0m: "
     ]
    }
   ],
   "source": [
    "from tensorflow.keras.utils import to_categorical\n",
    "from sklearn.metrics import accuracy_score\n",
    "\n",
    "batch_size=32\n",
    "\n",
    "def ethnicity_data_generator(file_paths, batch_size):\n",
    "    num_files = len(file_paths)\n",
    "    for i in range(0, num_files, batch_size):\n",
    "        batch_paths = file_paths[i:i+batch_size]\n",
    "        batch_images = []\n",
    "        batch_labels = []\n",
    "\n",
    "        for file_path in batch_paths:\n",
    "            img = preprocess_image(file_path)  # Ensure this is defined and resizes images to (200, 200, 3)\n",
    "            batch_images.append(img)\n",
    "\n",
    "            # Extract labels\n",
    "            parts = file_path.split('_')\n",
    "            if len(parts) >= 4:\n",
    "                race = int(parts[2])\n",
    "                batch_labels.append(race)\n",
    "            else:\n",
    "                # Handle error: skip this file or use a default value\n",
    "                continue\n",
    "\n",
    "        # Yield batch\n",
    "        yield np.array(batch_images), to_categorical(batch_labels, num_classes=len(race_mapping))\n",
    "\n",
    "def calculate_accuracy(file_paths, generator_func, model, batch_size):\n",
    "    all_labels = []\n",
    "    all_predictions = []\n",
    "    num_steps = len(file_paths) // batch_size\n",
    "\n",
    "    # Generate predictions for full batches\n",
    "    generator = generator_func(file_paths, batch_size)\n",
    "    for _ in range(num_steps):\n",
    "        images, labels = next(generator)\n",
    "        predictions_batch = model.predict(images)\n",
    "        predicted_classes = np.argmax(predictions_batch, axis=1)\n",
    "        true_classes = np.argmax(labels, axis=1)\n",
    "        all_labels.extend(true_classes)\n",
    "        all_predictions.extend(predicted_classes)\n",
    "\n",
    "    # Handle the last partial batch, if there is one\n",
    "    last_batch_size = len(file_paths) % batch_size\n",
    "    if last_batch_size > 0:\n",
    "        # Process the remainder of the files\n",
    "        images, labels = next(generator)\n",
    "        predictions_batch = model.predict(images[:last_batch_size])\n",
    "        predicted_classes = np.argmax(predictions_batch, axis=1)\n",
    "        true_classes = np.argmax(labels[:last_batch_size], axis=1)\n",
    "        all_labels.extend(true_classes)\n",
    "        all_predictions.extend(predicted_classes)\n",
    "\n",
    "    # Calculate accuracy\n",
    "    accuracy = accuracy_score(all_labels, all_predictions)\n",
    "    return accuracy\n",
    "\n",
    "# Example usage:\n",
    "# Assuming 'ethnicity_model' is your trained Keras model\n",
    "# Assuming 'test_paths' is a list of file paths for the test set\n",
    "# Assuming 'batch_size' is defined\n",
    "accuracy = calculate_accuracy(test_paths, ethnicity_data_generator, ethnicity_model, batch_size)\n",
    "print(f\"Ethnicity prediction accuracy: {accuracy * 100:.2f}%\")\n",
    "\n",
    "\n",
    "\n"
   ]
  },
  {
   "cell_type": "code",
   "execution_count": null,
   "metadata": {},
   "outputs": [
    {
     "name": "stdout",
     "output_type": "stream",
     "text": [
      "1/1 [==============================] - 2s 2s/step\n",
      "1/1 [==============================] - 2s 2s/step\n",
      "1/1 [==============================] - 2s 2s/step\n",
      "1/1 [==============================] - 2s 2s/step\n",
      "1/1 [==============================] - 2s 2s/step\n",
      "1/1 [==============================] - 2s 2s/step\n",
      "1/1 [==============================] - 2s 2s/step\n",
      "1/1 [==============================] - 2s 2s/step\n",
      "1/1 [==============================] - 2s 2s/step\n",
      "1/1 [==============================] - 2s 2s/step\n",
      "1/1 [==============================] - 2s 2s/step\n",
      "1/1 [==============================] - 2s 2s/step\n"
     ]
    },
    {
     "ename": "KeyboardInterrupt",
     "evalue": "",
     "output_type": "error",
     "traceback": [
      "\u001b[1;31m---------------------------------------------------------------------------\u001b[0m",
      "\u001b[1;31mKeyboardInterrupt\u001b[0m                         Traceback (most recent call last)",
      "\u001b[1;32me:\\capJC\\paper\\a.ipynb Cell 26\u001b[0m line \u001b[0;36m2\n\u001b[0;32m     <a href='vscode-notebook-cell:/e%3A/capJC/paper/a.ipynb#X26sZmlsZQ%3D%3D?line=16'>17</a>\u001b[0m test_ethnicity_generator \u001b[39m=\u001b[39m ethnicity_test_data_generator(test_paths, batch_size)\n\u001b[0;32m     <a href='vscode-notebook-cell:/e%3A/capJC/paper/a.ipynb#X26sZmlsZQ%3D%3D?line=18'>19</a>\u001b[0m \u001b[39m# Predict ethnicity\u001b[39;00m\n\u001b[1;32m---> <a href='vscode-notebook-cell:/e%3A/capJC/paper/a.ipynb#X26sZmlsZQ%3D%3D?line=19'>20</a>\u001b[0m ethnicity_pred \u001b[39m=\u001b[39m predict_ethnicity(test_ethnicity_generator, num_test_steps)\n\u001b[0;32m     <a href='vscode-notebook-cell:/e%3A/capJC/paper/a.ipynb#X26sZmlsZQ%3D%3D?line=21'>22</a>\u001b[0m \u001b[39m# Obtain actual ethnicity labels for the test set\u001b[39;00m\n\u001b[0;32m     <a href='vscode-notebook-cell:/e%3A/capJC/paper/a.ipynb#X26sZmlsZQ%3D%3D?line=22'>23</a>\u001b[0m ethnicity_test_labels \u001b[39m=\u001b[39m [safe_parse_labels(path)[\u001b[39m2\u001b[39m] \u001b[39mfor\u001b[39;00m path \u001b[39min\u001b[39;00m test_paths \u001b[39mif\u001b[39;00m safe_parse_labels(path) \u001b[39mis\u001b[39;00m \u001b[39mnot\u001b[39;00m \u001b[39mNone\u001b[39;00m]\n",
      "\u001b[1;32me:\\capJC\\paper\\a.ipynb Cell 26\u001b[0m line \u001b[0;36m7\n\u001b[0;32m      <a href='vscode-notebook-cell:/e%3A/capJC/paper/a.ipynb#X26sZmlsZQ%3D%3D?line=4'>5</a>\u001b[0m \u001b[39mfor\u001b[39;00m _ \u001b[39min\u001b[39;00m \u001b[39mrange\u001b[39m(num_steps):\n\u001b[0;32m      <a href='vscode-notebook-cell:/e%3A/capJC/paper/a.ipynb#X26sZmlsZQ%3D%3D?line=5'>6</a>\u001b[0m     X_batch \u001b[39m=\u001b[39m \u001b[39mnext\u001b[39m(test_generator)\n\u001b[1;32m----> <a href='vscode-notebook-cell:/e%3A/capJC/paper/a.ipynb#X26sZmlsZQ%3D%3D?line=6'>7</a>\u001b[0m     predictions_batch \u001b[39m=\u001b[39m ethnicity_model\u001b[39m.\u001b[39;49mpredict(X_batch)\n\u001b[0;32m      <a href='vscode-notebook-cell:/e%3A/capJC/paper/a.ipynb#X26sZmlsZQ%3D%3D?line=7'>8</a>\u001b[0m     predictions\u001b[39m.\u001b[39mextend(np\u001b[39m.\u001b[39margmax(predictions_batch, axis\u001b[39m=\u001b[39m\u001b[39m1\u001b[39m))\n\u001b[0;32m      <a href='vscode-notebook-cell:/e%3A/capJC/paper/a.ipynb#X26sZmlsZQ%3D%3D?line=8'>9</a>\u001b[0m \u001b[39mreturn\u001b[39;00m np\u001b[39m.\u001b[39marray(predictions)\n",
      "File \u001b[1;32m~\\AppData\\Roaming\\Python\\Python311\\site-packages\\keras\\src\\utils\\traceback_utils.py:65\u001b[0m, in \u001b[0;36mfilter_traceback.<locals>.error_handler\u001b[1;34m(*args, **kwargs)\u001b[0m\n\u001b[0;32m     63\u001b[0m filtered_tb \u001b[39m=\u001b[39m \u001b[39mNone\u001b[39;00m\n\u001b[0;32m     64\u001b[0m \u001b[39mtry\u001b[39;00m:\n\u001b[1;32m---> 65\u001b[0m     \u001b[39mreturn\u001b[39;00m fn(\u001b[39m*\u001b[39;49margs, \u001b[39m*\u001b[39;49m\u001b[39m*\u001b[39;49mkwargs)\n\u001b[0;32m     66\u001b[0m \u001b[39mexcept\u001b[39;00m \u001b[39mException\u001b[39;00m \u001b[39mas\u001b[39;00m e:\n\u001b[0;32m     67\u001b[0m     filtered_tb \u001b[39m=\u001b[39m _process_traceback_frames(e\u001b[39m.\u001b[39m__traceback__)\n",
      "File \u001b[1;32m~\\AppData\\Roaming\\Python\\Python311\\site-packages\\keras\\src\\engine\\training.py:2655\u001b[0m, in \u001b[0;36mModel.predict\u001b[1;34m(self, x, batch_size, verbose, steps, callbacks, max_queue_size, workers, use_multiprocessing)\u001b[0m\n\u001b[0;32m   2653\u001b[0m \u001b[39mfor\u001b[39;00m step \u001b[39min\u001b[39;00m data_handler\u001b[39m.\u001b[39msteps():\n\u001b[0;32m   2654\u001b[0m     callbacks\u001b[39m.\u001b[39mon_predict_batch_begin(step)\n\u001b[1;32m-> 2655\u001b[0m     tmp_batch_outputs \u001b[39m=\u001b[39m \u001b[39mself\u001b[39;49m\u001b[39m.\u001b[39;49mpredict_function(iterator)\n\u001b[0;32m   2656\u001b[0m     \u001b[39mif\u001b[39;00m data_handler\u001b[39m.\u001b[39mshould_sync:\n\u001b[0;32m   2657\u001b[0m         context\u001b[39m.\u001b[39masync_wait()\n",
      "File \u001b[1;32m~\\AppData\\Roaming\\Python\\Python311\\site-packages\\tensorflow\\python\\util\\traceback_utils.py:150\u001b[0m, in \u001b[0;36mfilter_traceback.<locals>.error_handler\u001b[1;34m(*args, **kwargs)\u001b[0m\n\u001b[0;32m    148\u001b[0m filtered_tb \u001b[39m=\u001b[39m \u001b[39mNone\u001b[39;00m\n\u001b[0;32m    149\u001b[0m \u001b[39mtry\u001b[39;00m:\n\u001b[1;32m--> 150\u001b[0m   \u001b[39mreturn\u001b[39;00m fn(\u001b[39m*\u001b[39;49margs, \u001b[39m*\u001b[39;49m\u001b[39m*\u001b[39;49mkwargs)\n\u001b[0;32m    151\u001b[0m \u001b[39mexcept\u001b[39;00m \u001b[39mException\u001b[39;00m \u001b[39mas\u001b[39;00m e:\n\u001b[0;32m    152\u001b[0m   filtered_tb \u001b[39m=\u001b[39m _process_traceback_frames(e\u001b[39m.\u001b[39m__traceback__)\n",
      "File \u001b[1;32m~\\AppData\\Roaming\\Python\\Python311\\site-packages\\tensorflow\\python\\eager\\polymorphic_function\\polymorphic_function.py:832\u001b[0m, in \u001b[0;36mFunction.__call__\u001b[1;34m(self, *args, **kwds)\u001b[0m\n\u001b[0;32m    829\u001b[0m compiler \u001b[39m=\u001b[39m \u001b[39m\"\u001b[39m\u001b[39mxla\u001b[39m\u001b[39m\"\u001b[39m \u001b[39mif\u001b[39;00m \u001b[39mself\u001b[39m\u001b[39m.\u001b[39m_jit_compile \u001b[39melse\u001b[39;00m \u001b[39m\"\u001b[39m\u001b[39mnonXla\u001b[39m\u001b[39m\"\u001b[39m\n\u001b[0;32m    831\u001b[0m \u001b[39mwith\u001b[39;00m OptionalXlaContext(\u001b[39mself\u001b[39m\u001b[39m.\u001b[39m_jit_compile):\n\u001b[1;32m--> 832\u001b[0m   result \u001b[39m=\u001b[39m \u001b[39mself\u001b[39;49m\u001b[39m.\u001b[39;49m_call(\u001b[39m*\u001b[39;49margs, \u001b[39m*\u001b[39;49m\u001b[39m*\u001b[39;49mkwds)\n\u001b[0;32m    834\u001b[0m new_tracing_count \u001b[39m=\u001b[39m \u001b[39mself\u001b[39m\u001b[39m.\u001b[39mexperimental_get_tracing_count()\n\u001b[0;32m    835\u001b[0m without_tracing \u001b[39m=\u001b[39m (tracing_count \u001b[39m==\u001b[39m new_tracing_count)\n",
      "File \u001b[1;32m~\\AppData\\Roaming\\Python\\Python311\\site-packages\\tensorflow\\python\\eager\\polymorphic_function\\polymorphic_function.py:877\u001b[0m, in \u001b[0;36mFunction._call\u001b[1;34m(self, *args, **kwds)\u001b[0m\n\u001b[0;32m    874\u001b[0m \u001b[39mself\u001b[39m\u001b[39m.\u001b[39m_lock\u001b[39m.\u001b[39mrelease()\n\u001b[0;32m    875\u001b[0m \u001b[39m# In this case we have not created variables on the first call. So we can\u001b[39;00m\n\u001b[0;32m    876\u001b[0m \u001b[39m# run the first trace but we should fail if variables are created.\u001b[39;00m\n\u001b[1;32m--> 877\u001b[0m results \u001b[39m=\u001b[39m tracing_compilation\u001b[39m.\u001b[39;49mcall_function(\n\u001b[0;32m    878\u001b[0m     args, kwds, \u001b[39mself\u001b[39;49m\u001b[39m.\u001b[39;49m_variable_creation_config\n\u001b[0;32m    879\u001b[0m )\n\u001b[0;32m    880\u001b[0m \u001b[39mif\u001b[39;00m \u001b[39mself\u001b[39m\u001b[39m.\u001b[39m_created_variables:\n\u001b[0;32m    881\u001b[0m   \u001b[39mraise\u001b[39;00m \u001b[39mValueError\u001b[39;00m(\u001b[39m\"\u001b[39m\u001b[39mCreating variables on a non-first call to a function\u001b[39m\u001b[39m\"\u001b[39m\n\u001b[0;32m    882\u001b[0m                    \u001b[39m\"\u001b[39m\u001b[39m decorated with tf.function.\u001b[39m\u001b[39m\"\u001b[39m)\n",
      "File \u001b[1;32m~\\AppData\\Roaming\\Python\\Python311\\site-packages\\tensorflow\\python\\eager\\polymorphic_function\\tracing_compilation.py:139\u001b[0m, in \u001b[0;36mcall_function\u001b[1;34m(args, kwargs, tracing_options)\u001b[0m\n\u001b[0;32m    137\u001b[0m bound_args \u001b[39m=\u001b[39m function\u001b[39m.\u001b[39mfunction_type\u001b[39m.\u001b[39mbind(\u001b[39m*\u001b[39margs, \u001b[39m*\u001b[39m\u001b[39m*\u001b[39mkwargs)\n\u001b[0;32m    138\u001b[0m flat_inputs \u001b[39m=\u001b[39m function\u001b[39m.\u001b[39mfunction_type\u001b[39m.\u001b[39munpack_inputs(bound_args)\n\u001b[1;32m--> 139\u001b[0m \u001b[39mreturn\u001b[39;00m function\u001b[39m.\u001b[39;49m_call_flat(  \u001b[39m# pylint: disable=protected-access\u001b[39;49;00m\n\u001b[0;32m    140\u001b[0m     flat_inputs, captured_inputs\u001b[39m=\u001b[39;49mfunction\u001b[39m.\u001b[39;49mcaptured_inputs\n\u001b[0;32m    141\u001b[0m )\n",
      "File \u001b[1;32m~\\AppData\\Roaming\\Python\\Python311\\site-packages\\tensorflow\\python\\eager\\polymorphic_function\\concrete_function.py:1323\u001b[0m, in \u001b[0;36mConcreteFunction._call_flat\u001b[1;34m(self, tensor_inputs, captured_inputs)\u001b[0m\n\u001b[0;32m   1319\u001b[0m possible_gradient_type \u001b[39m=\u001b[39m gradients_util\u001b[39m.\u001b[39mPossibleTapeGradientTypes(args)\n\u001b[0;32m   1320\u001b[0m \u001b[39mif\u001b[39;00m (possible_gradient_type \u001b[39m==\u001b[39m gradients_util\u001b[39m.\u001b[39mPOSSIBLE_GRADIENT_TYPES_NONE\n\u001b[0;32m   1321\u001b[0m     \u001b[39mand\u001b[39;00m executing_eagerly):\n\u001b[0;32m   1322\u001b[0m   \u001b[39m# No tape is watching; skip to running the function.\u001b[39;00m\n\u001b[1;32m-> 1323\u001b[0m   \u001b[39mreturn\u001b[39;00m \u001b[39mself\u001b[39;49m\u001b[39m.\u001b[39;49m_inference_function\u001b[39m.\u001b[39;49mcall_preflattened(args)\n\u001b[0;32m   1324\u001b[0m forward_backward \u001b[39m=\u001b[39m \u001b[39mself\u001b[39m\u001b[39m.\u001b[39m_select_forward_and_backward_functions(\n\u001b[0;32m   1325\u001b[0m     args,\n\u001b[0;32m   1326\u001b[0m     possible_gradient_type,\n\u001b[0;32m   1327\u001b[0m     executing_eagerly)\n\u001b[0;32m   1328\u001b[0m forward_function, args_with_tangents \u001b[39m=\u001b[39m forward_backward\u001b[39m.\u001b[39mforward()\n",
      "File \u001b[1;32m~\\AppData\\Roaming\\Python\\Python311\\site-packages\\tensorflow\\python\\eager\\polymorphic_function\\atomic_function.py:216\u001b[0m, in \u001b[0;36mAtomicFunction.call_preflattened\u001b[1;34m(self, args)\u001b[0m\n\u001b[0;32m    214\u001b[0m \u001b[39mdef\u001b[39;00m \u001b[39mcall_preflattened\u001b[39m(\u001b[39mself\u001b[39m, args: Sequence[core\u001b[39m.\u001b[39mTensor]) \u001b[39m-\u001b[39m\u001b[39m>\u001b[39m Any:\n\u001b[0;32m    215\u001b[0m \u001b[39m  \u001b[39m\u001b[39m\"\"\"Calls with flattened tensor inputs and returns the structured output.\"\"\"\u001b[39;00m\n\u001b[1;32m--> 216\u001b[0m   flat_outputs \u001b[39m=\u001b[39m \u001b[39mself\u001b[39;49m\u001b[39m.\u001b[39;49mcall_flat(\u001b[39m*\u001b[39;49margs)\n\u001b[0;32m    217\u001b[0m   \u001b[39mreturn\u001b[39;00m \u001b[39mself\u001b[39m\u001b[39m.\u001b[39mfunction_type\u001b[39m.\u001b[39mpack_output(flat_outputs)\n",
      "File \u001b[1;32m~\\AppData\\Roaming\\Python\\Python311\\site-packages\\tensorflow\\python\\eager\\polymorphic_function\\atomic_function.py:251\u001b[0m, in \u001b[0;36mAtomicFunction.call_flat\u001b[1;34m(self, *args)\u001b[0m\n\u001b[0;32m    249\u001b[0m \u001b[39mwith\u001b[39;00m record\u001b[39m.\u001b[39mstop_recording():\n\u001b[0;32m    250\u001b[0m   \u001b[39mif\u001b[39;00m \u001b[39mself\u001b[39m\u001b[39m.\u001b[39m_bound_context\u001b[39m.\u001b[39mexecuting_eagerly():\n\u001b[1;32m--> 251\u001b[0m     outputs \u001b[39m=\u001b[39m \u001b[39mself\u001b[39;49m\u001b[39m.\u001b[39;49m_bound_context\u001b[39m.\u001b[39;49mcall_function(\n\u001b[0;32m    252\u001b[0m         \u001b[39mself\u001b[39;49m\u001b[39m.\u001b[39;49mname,\n\u001b[0;32m    253\u001b[0m         \u001b[39mlist\u001b[39;49m(args),\n\u001b[0;32m    254\u001b[0m         \u001b[39mlen\u001b[39;49m(\u001b[39mself\u001b[39;49m\u001b[39m.\u001b[39;49mfunction_type\u001b[39m.\u001b[39;49mflat_outputs),\n\u001b[0;32m    255\u001b[0m     )\n\u001b[0;32m    256\u001b[0m   \u001b[39melse\u001b[39;00m:\n\u001b[0;32m    257\u001b[0m     outputs \u001b[39m=\u001b[39m make_call_op_in_graph(\n\u001b[0;32m    258\u001b[0m         \u001b[39mself\u001b[39m,\n\u001b[0;32m    259\u001b[0m         \u001b[39mlist\u001b[39m(args),\n\u001b[0;32m    260\u001b[0m         \u001b[39mself\u001b[39m\u001b[39m.\u001b[39m_bound_context\u001b[39m.\u001b[39mfunction_call_options\u001b[39m.\u001b[39mas_attrs(),\n\u001b[0;32m    261\u001b[0m     )\n",
      "File \u001b[1;32m~\\AppData\\Roaming\\Python\\Python311\\site-packages\\tensorflow\\python\\eager\\context.py:1486\u001b[0m, in \u001b[0;36mContext.call_function\u001b[1;34m(self, name, tensor_inputs, num_outputs)\u001b[0m\n\u001b[0;32m   1484\u001b[0m cancellation_context \u001b[39m=\u001b[39m cancellation\u001b[39m.\u001b[39mcontext()\n\u001b[0;32m   1485\u001b[0m \u001b[39mif\u001b[39;00m cancellation_context \u001b[39mis\u001b[39;00m \u001b[39mNone\u001b[39;00m:\n\u001b[1;32m-> 1486\u001b[0m   outputs \u001b[39m=\u001b[39m execute\u001b[39m.\u001b[39;49mexecute(\n\u001b[0;32m   1487\u001b[0m       name\u001b[39m.\u001b[39;49mdecode(\u001b[39m\"\u001b[39;49m\u001b[39mutf-8\u001b[39;49m\u001b[39m\"\u001b[39;49m),\n\u001b[0;32m   1488\u001b[0m       num_outputs\u001b[39m=\u001b[39;49mnum_outputs,\n\u001b[0;32m   1489\u001b[0m       inputs\u001b[39m=\u001b[39;49mtensor_inputs,\n\u001b[0;32m   1490\u001b[0m       attrs\u001b[39m=\u001b[39;49mattrs,\n\u001b[0;32m   1491\u001b[0m       ctx\u001b[39m=\u001b[39;49m\u001b[39mself\u001b[39;49m,\n\u001b[0;32m   1492\u001b[0m   )\n\u001b[0;32m   1493\u001b[0m \u001b[39melse\u001b[39;00m:\n\u001b[0;32m   1494\u001b[0m   outputs \u001b[39m=\u001b[39m execute\u001b[39m.\u001b[39mexecute_with_cancellation(\n\u001b[0;32m   1495\u001b[0m       name\u001b[39m.\u001b[39mdecode(\u001b[39m\"\u001b[39m\u001b[39mutf-8\u001b[39m\u001b[39m\"\u001b[39m),\n\u001b[0;32m   1496\u001b[0m       num_outputs\u001b[39m=\u001b[39mnum_outputs,\n\u001b[1;32m   (...)\u001b[0m\n\u001b[0;32m   1500\u001b[0m       cancellation_manager\u001b[39m=\u001b[39mcancellation_context,\n\u001b[0;32m   1501\u001b[0m   )\n",
      "File \u001b[1;32m~\\AppData\\Roaming\\Python\\Python311\\site-packages\\tensorflow\\python\\eager\\execute.py:53\u001b[0m, in \u001b[0;36mquick_execute\u001b[1;34m(op_name, num_outputs, inputs, attrs, ctx, name)\u001b[0m\n\u001b[0;32m     51\u001b[0m \u001b[39mtry\u001b[39;00m:\n\u001b[0;32m     52\u001b[0m   ctx\u001b[39m.\u001b[39mensure_initialized()\n\u001b[1;32m---> 53\u001b[0m   tensors \u001b[39m=\u001b[39m pywrap_tfe\u001b[39m.\u001b[39;49mTFE_Py_Execute(ctx\u001b[39m.\u001b[39;49m_handle, device_name, op_name,\n\u001b[0;32m     54\u001b[0m                                       inputs, attrs, num_outputs)\n\u001b[0;32m     55\u001b[0m \u001b[39mexcept\u001b[39;00m core\u001b[39m.\u001b[39m_NotOkStatusException \u001b[39mas\u001b[39;00m e:\n\u001b[0;32m     56\u001b[0m   \u001b[39mif\u001b[39;00m name \u001b[39mis\u001b[39;00m \u001b[39mnot\u001b[39;00m \u001b[39mNone\u001b[39;00m:\n",
      "\u001b[1;31mKeyboardInterrupt\u001b[0m: "
     ]
    }
   ],
   "source": [
    "# Ethnicity Prediction and Evaluation\n",
    "\n",
    "def evaluate_model(test_generator_func, model, num_steps, batch_size):\n",
    "    test_generator = test_generator_func(num_test_steps, batch_size)\n",
    "    predictions = []\n",
    "    for _ in range(num_steps):\n",
    "        X_batch, _ = next(test_generator)\n",
    "        predictions_batch = model.predict(X_batch)\n",
    "        predictions.extend(predictions_batch)\n",
    "\n",
    "    return np.array(predictions)\n",
    "\n",
    "# Calculate the number of steps needed for the test generator\n",
    "num_test_steps = len(test_paths) // batch_size + (len(test_paths) % batch_size != 0)\n",
    "\n",
    "# Create the test data generator for ethnicity\n",
    "test_ethnicity_generator = ethnicity_test_data_generator(test_paths, batch_size)\n",
    "\n",
    "# Predict ethnicity\n",
    "ethnicity_pred = predict_ethnicity(test_ethnicity_generator, num_test_steps)\n",
    "\n",
    "# Obtain actual ethnicity labels for the test set\n",
    "ethnicity_test_labels = [safe_parse_labels(path)[2] for path in test_paths if safe_parse_labels(path) is not None]\n",
    "ethnicity_test_labels_categorical = to_categorical([race_mapping[race] for race in ethnicity_test_labels], num_classes=len(race_mapping))\n",
    "\n",
    "# Calculate accuracy\n",
    "correct_predictions = np.argmax(ethnicity_test_labels_categorical, axis=1) == ethnicity_pred\n",
    "ethnicity_accuracy = np.mean(correct_predictions)\n",
    "print(\"Ethnicity Prediction Accuracy: {:.2f}%\".format(ethnicity_accuracy * 100))\n",
    "\n",
    "\n"
   ]
  },
  {
   "cell_type": "code",
   "execution_count": null,
   "metadata": {},
   "outputs": [],
   "source": [
    "# Assuming gender_model is already defined\n",
    "history_gender = gender_model.fit(\n",
    "    X_train, gender_train,\n",
    "    validation_split=0.1,  # using 10% of data for validation\n",
    "    epochs=10,  # Number of epochs\n",
    "    batch_size=32  # Batch size, adjust based on your dataset\n",
    ")"
   ]
  },
  {
   "cell_type": "code",
   "execution_count": null,
   "metadata": {},
   "outputs": [
    {
     "ename": "NameError",
     "evalue": "name 'age_model' is not defined",
     "output_type": "error",
     "traceback": [
      "\u001b[1;31m---------------------------------------------------------------------------\u001b[0m",
      "\u001b[1;31mNameError\u001b[0m                                 Traceback (most recent call last)",
      "\u001b[1;32me:\\capJC\\paper\\a.ipynb Cell 14\u001b[0m line \u001b[0;36m2\n\u001b[0;32m      <a href='vscode-notebook-cell:/e%3A/capJC/paper/a.ipynb#X15sZmlsZQ%3D%3D?line=0'>1</a>\u001b[0m \u001b[39m# Assuming age_model is already defined\u001b[39;00m\n\u001b[1;32m----> <a href='vscode-notebook-cell:/e%3A/capJC/paper/a.ipynb#X15sZmlsZQ%3D%3D?line=1'>2</a>\u001b[0m history_age \u001b[39m=\u001b[39m age_model\u001b[39m.\u001b[39mfit(\n\u001b[0;32m      <a href='vscode-notebook-cell:/e%3A/capJC/paper/a.ipynb#X15sZmlsZQ%3D%3D?line=2'>3</a>\u001b[0m     X_train, age_train,\n\u001b[0;32m      <a href='vscode-notebook-cell:/e%3A/capJC/paper/a.ipynb#X15sZmlsZQ%3D%3D?line=3'>4</a>\u001b[0m     validation_split\u001b[39m=\u001b[39m\u001b[39m0.1\u001b[39m,  \u001b[39m# using 10% of data for validation\u001b[39;00m\n\u001b[0;32m      <a href='vscode-notebook-cell:/e%3A/capJC/paper/a.ipynb#X15sZmlsZQ%3D%3D?line=4'>5</a>\u001b[0m     epochs\u001b[39m=\u001b[39m\u001b[39m10\u001b[39m,  \u001b[39m# Number of epochs\u001b[39;00m\n\u001b[0;32m      <a href='vscode-notebook-cell:/e%3A/capJC/paper/a.ipynb#X15sZmlsZQ%3D%3D?line=5'>6</a>\u001b[0m     batch_size\u001b[39m=\u001b[39m\u001b[39m32\u001b[39m  \u001b[39m# Batch size, adjust based on your dataset\u001b[39;00m\n\u001b[0;32m      <a href='vscode-notebook-cell:/e%3A/capJC/paper/a.ipynb#X15sZmlsZQ%3D%3D?line=6'>7</a>\u001b[0m )\n",
      "\u001b[1;31mNameError\u001b[0m: name 'age_model' is not defined"
     ]
    }
   ],
   "source": [
    "# Assuming age_model is already defined\n",
    "history_age = age_model.fit(\n",
    "    X_train, age_train,\n",
    "    validation_split=0.1,  # using 10% of data for validation\n",
    "    epochs=10,  # Number of epochs\n",
    "    batch_size=32  # Batch size, adjust based on your dataset\n",
    ")\n"
   ]
  },
  {
   "cell_type": "code",
   "execution_count": null,
   "metadata": {},
   "outputs": [
    {
     "ename": "KeyError",
     "evalue": "'val_loss'",
     "output_type": "error",
     "traceback": [
      "\u001b[1;31m---------------------------------------------------------------------------\u001b[0m",
      "\u001b[1;31mKeyError\u001b[0m                                  Traceback (most recent call last)",
      "\u001b[1;32me:\\capJC\\paper\\a.ipynb Cell 30\u001b[0m line \u001b[0;36m2\n\u001b[0;32m     <a href='vscode-notebook-cell:/e%3A/capJC/paper/a.ipynb#X32sZmlsZQ%3D%3D?line=25'>26</a>\u001b[0m     plt\u001b[39m.\u001b[39mshow()\n\u001b[0;32m     <a href='vscode-notebook-cell:/e%3A/capJC/paper/a.ipynb#X32sZmlsZQ%3D%3D?line=27'>28</a>\u001b[0m \u001b[39m# Plotting performance metrics for Age Model\u001b[39;00m\n\u001b[1;32m---> <a href='vscode-notebook-cell:/e%3A/capJC/paper/a.ipynb#X32sZmlsZQ%3D%3D?line=28'>29</a>\u001b[0m plot_loss(history_age, \u001b[39m'\u001b[39;49m\u001b[39mAge Prediction Model - Loss\u001b[39;49m\u001b[39m'\u001b[39;49m)\n\u001b[0;32m     <a href='vscode-notebook-cell:/e%3A/capJC/paper/a.ipynb#X32sZmlsZQ%3D%3D?line=29'>30</a>\u001b[0m plot_accuracy(history_age, \u001b[39m'\u001b[39m\u001b[39mAge Prediction Model - MAE\u001b[39m\u001b[39m'\u001b[39m, is_binary\u001b[39m=\u001b[39m\u001b[39mFalse\u001b[39;00m)\n\u001b[0;32m     <a href='vscode-notebook-cell:/e%3A/capJC/paper/a.ipynb#X32sZmlsZQ%3D%3D?line=31'>32</a>\u001b[0m \u001b[39m# Plotting performance metrics for Gender Model\u001b[39;00m\n",
      "\u001b[1;32me:\\capJC\\paper\\a.ipynb Cell 30\u001b[0m line \u001b[0;36m7\n\u001b[0;32m      <a href='vscode-notebook-cell:/e%3A/capJC/paper/a.ipynb#X32sZmlsZQ%3D%3D?line=4'>5</a>\u001b[0m plt\u001b[39m.\u001b[39mfigure()\n\u001b[0;32m      <a href='vscode-notebook-cell:/e%3A/capJC/paper/a.ipynb#X32sZmlsZQ%3D%3D?line=5'>6</a>\u001b[0m plt\u001b[39m.\u001b[39mplot(history\u001b[39m.\u001b[39mhistory[\u001b[39m'\u001b[39m\u001b[39mloss\u001b[39m\u001b[39m'\u001b[39m], label\u001b[39m=\u001b[39m\u001b[39m'\u001b[39m\u001b[39mTraining Loss\u001b[39m\u001b[39m'\u001b[39m)\n\u001b[1;32m----> <a href='vscode-notebook-cell:/e%3A/capJC/paper/a.ipynb#X32sZmlsZQ%3D%3D?line=6'>7</a>\u001b[0m plt\u001b[39m.\u001b[39mplot(history\u001b[39m.\u001b[39;49mhistory[\u001b[39m'\u001b[39;49m\u001b[39mval_loss\u001b[39;49m\u001b[39m'\u001b[39;49m], label\u001b[39m=\u001b[39m\u001b[39m'\u001b[39m\u001b[39mValidation Loss\u001b[39m\u001b[39m'\u001b[39m)\n\u001b[0;32m      <a href='vscode-notebook-cell:/e%3A/capJC/paper/a.ipynb#X32sZmlsZQ%3D%3D?line=7'>8</a>\u001b[0m plt\u001b[39m.\u001b[39mtitle(title)\n\u001b[0;32m      <a href='vscode-notebook-cell:/e%3A/capJC/paper/a.ipynb#X32sZmlsZQ%3D%3D?line=8'>9</a>\u001b[0m plt\u001b[39m.\u001b[39mxlabel(\u001b[39m'\u001b[39m\u001b[39mEpochs\u001b[39m\u001b[39m'\u001b[39m)\n",
      "\u001b[1;31mKeyError\u001b[0m: 'val_loss'"
     ]
    },
    {
     "data": {
      "image/png": "[encoded data removed]",
      "text/plain": [
       "<Figure size 640x480 with 1 Axes>"
      ]
     },
     "metadata": {},
     "output_type": "display_data"
    }
   ],
   "source": [
    "import matplotlib.pyplot as plt\n",
    "\n",
    "# Function to plot training and validation loss\n",
    "def plot_loss(history, title):\n",
    "    plt.figure()\n",
    "    plt.plot(history.history['loss'], label='Training Loss')\n",
    "    plt.plot(history.history['val_loss'], label='Validation Loss')\n",
    "    plt.title(title)\n",
    "    plt.xlabel('Epochs')\n",
    "    plt.ylabel('Loss')\n",
    "    plt.legend()\n",
    "    plt.show()\n",
    "\n",
    "# Function to plot training and validation accuracy\n",
    "def plot_accuracy(history, title, is_binary=False):\n",
    "    plt.figure()\n",
    "    acc_key = 'accuracy' if 'accuracy' in history.history else 'acc'\n",
    "    val_acc_key = 'val_accuracy' if 'val_accuracy' in history.history else 'val_acc'\n",
    "    \n",
    "    plt.plot(history.history[acc_key], label='Training Accuracy')\n",
    "    plt.plot(history.history[val_acc_key], label='Validation Accuracy')\n",
    "    plt.title(title)\n",
    "    plt.xlabel('Epochs')\n",
    "    plt.ylabel('Accuracy' if is_binary else 'MAE')\n",
    "    plt.legend()\n",
    "    plt.show()\n",
    "\n",
    "# Plotting performance metrics for Age Model\n",
    "plot_loss(history_age, 'Age Prediction Model - Loss')\n",
    "plot_accuracy(history_age, 'Age Prediction Model - MAE', is_binary=False)\n",
    "\n",
    "# Plotting performance metrics for Gender Model\n",
    "plot_loss(history_gender, 'Gender Prediction Model - Loss')\n",
    "plot_accuracy(history_gender, 'Gender Prediction Model - Accuracy', is_binary=True)\n"
   ]
  },
  {
   "cell_type": "code",
   "execution_count": null,
   "metadata": {},
   "outputs": [],
   "source": []
  },
  {
   "cell_type": "code",
   "execution_count": null,
   "metadata": {},
   "outputs": [
    {
     "ename": "AxisError",
     "evalue": "axis 2 is out of bounds for array of dimension 1",
     "output_type": "error",
     "traceback": [
      "\u001b[1;31m---------------------------------------------------------------------------\u001b[0m",
      "\u001b[1;31mAxisError\u001b[0m                                 Traceback (most recent call last)",
      "\u001b[1;32me:\\capJC\\paper\\a.ipynb Cell 32\u001b[0m line \u001b[0;36m5\n\u001b[0;32m      <a href='vscode-notebook-cell:/e%3A/capJC/paper/a.ipynb#X33sZmlsZQ%3D%3D?line=1'>2</a>\u001b[0m \u001b[39mfrom\u001b[39;00m \u001b[39msklearn\u001b[39;00m\u001b[39m.\u001b[39;00m\u001b[39mmetrics\u001b[39;00m \u001b[39mimport\u001b[39;00m confusion_matrix\n\u001b[0;32m      <a href='vscode-notebook-cell:/e%3A/capJC/paper/a.ipynb#X33sZmlsZQ%3D%3D?line=2'>3</a>\u001b[0m \u001b[39mimport\u001b[39;00m \u001b[39mseaborn\u001b[39;00m \u001b[39mas\u001b[39;00m \u001b[39msns\u001b[39;00m\n\u001b[1;32m----> <a href='vscode-notebook-cell:/e%3A/capJC/paper/a.ipynb#X33sZmlsZQ%3D%3D?line=4'>5</a>\u001b[0m cm \u001b[39m=\u001b[39m confusion_matrix(np\u001b[39m.\u001b[39;49margmax(ethnicity_test_data_generator, axis\u001b[39m=\u001b[39;49m\u001b[39m2\u001b[39;49m), ethnicity_pred)\n\u001b[0;32m      <a href='vscode-notebook-cell:/e%3A/capJC/paper/a.ipynb#X33sZmlsZQ%3D%3D?line=5'>6</a>\u001b[0m sns\u001b[39m.\u001b[39mheatmap(cm, annot\u001b[39m=\u001b[39m\u001b[39mTrue\u001b[39;00m, fmt\u001b[39m=\u001b[39m\u001b[39m'\u001b[39m\u001b[39mg\u001b[39m\u001b[39m'\u001b[39m, xticklabels\u001b[39m=\u001b[39mrace_mapping, yticklabels\u001b[39m=\u001b[39mrace_mapping)\n\u001b[0;32m      <a href='vscode-notebook-cell:/e%3A/capJC/paper/a.ipynb#X33sZmlsZQ%3D%3D?line=6'>7</a>\u001b[0m plt\u001b[39m.\u001b[39mxlabel(\u001b[39m'\u001b[39m\u001b[39mPredicted\u001b[39m\u001b[39m'\u001b[39m)\n",
      "File \u001b[1;32m~\\AppData\\Roaming\\Python\\Python311\\site-packages\\numpy\\core\\fromnumeric.py:1229\u001b[0m, in \u001b[0;36margmax\u001b[1;34m(a, axis, out, keepdims)\u001b[0m\n\u001b[0;32m   1142\u001b[0m \u001b[39m\u001b[39m\u001b[39m\"\"\"\u001b[39;00m\n\u001b[0;32m   1143\u001b[0m \u001b[39mReturns the indices of the maximum values along an axis.\u001b[39;00m\n\u001b[0;32m   1144\u001b[0m \n\u001b[1;32m   (...)\u001b[0m\n\u001b[0;32m   1226\u001b[0m \u001b[39m(2, 1, 4)\u001b[39;00m\n\u001b[0;32m   1227\u001b[0m \u001b[39m\"\"\"\u001b[39;00m\n\u001b[0;32m   1228\u001b[0m kwds \u001b[39m=\u001b[39m {\u001b[39m'\u001b[39m\u001b[39mkeepdims\u001b[39m\u001b[39m'\u001b[39m: keepdims} \u001b[39mif\u001b[39;00m keepdims \u001b[39mis\u001b[39;00m \u001b[39mnot\u001b[39;00m np\u001b[39m.\u001b[39m_NoValue \u001b[39melse\u001b[39;00m {}\n\u001b[1;32m-> 1229\u001b[0m \u001b[39mreturn\u001b[39;00m _wrapfunc(a, \u001b[39m'\u001b[39;49m\u001b[39margmax\u001b[39;49m\u001b[39m'\u001b[39;49m, axis\u001b[39m=\u001b[39;49maxis, out\u001b[39m=\u001b[39;49mout, \u001b[39m*\u001b[39;49m\u001b[39m*\u001b[39;49mkwds)\n",
      "File \u001b[1;32m~\\AppData\\Roaming\\Python\\Python311\\site-packages\\numpy\\core\\fromnumeric.py:56\u001b[0m, in \u001b[0;36m_wrapfunc\u001b[1;34m(obj, method, *args, **kwds)\u001b[0m\n\u001b[0;32m     54\u001b[0m bound \u001b[39m=\u001b[39m \u001b[39mgetattr\u001b[39m(obj, method, \u001b[39mNone\u001b[39;00m)\n\u001b[0;32m     55\u001b[0m \u001b[39mif\u001b[39;00m bound \u001b[39mis\u001b[39;00m \u001b[39mNone\u001b[39;00m:\n\u001b[1;32m---> 56\u001b[0m     \u001b[39mreturn\u001b[39;00m _wrapit(obj, method, \u001b[39m*\u001b[39;49margs, \u001b[39m*\u001b[39;49m\u001b[39m*\u001b[39;49mkwds)\n\u001b[0;32m     58\u001b[0m \u001b[39mtry\u001b[39;00m:\n\u001b[0;32m     59\u001b[0m     \u001b[39mreturn\u001b[39;00m bound(\u001b[39m*\u001b[39margs, \u001b[39m*\u001b[39m\u001b[39m*\u001b[39mkwds)\n",
      "File \u001b[1;32m~\\AppData\\Roaming\\Python\\Python311\\site-packages\\numpy\\core\\fromnumeric.py:45\u001b[0m, in \u001b[0;36m_wrapit\u001b[1;34m(obj, method, *args, **kwds)\u001b[0m\n\u001b[0;32m     43\u001b[0m \u001b[39mexcept\u001b[39;00m \u001b[39mAttributeError\u001b[39;00m:\n\u001b[0;32m     44\u001b[0m     wrap \u001b[39m=\u001b[39m \u001b[39mNone\u001b[39;00m\n\u001b[1;32m---> 45\u001b[0m result \u001b[39m=\u001b[39m \u001b[39mgetattr\u001b[39;49m(asarray(obj), method)(\u001b[39m*\u001b[39;49margs, \u001b[39m*\u001b[39;49m\u001b[39m*\u001b[39;49mkwds)\n\u001b[0;32m     46\u001b[0m \u001b[39mif\u001b[39;00m wrap:\n\u001b[0;32m     47\u001b[0m     \u001b[39mif\u001b[39;00m \u001b[39mnot\u001b[39;00m \u001b[39misinstance\u001b[39m(result, mu\u001b[39m.\u001b[39mndarray):\n",
      "\u001b[1;31mAxisError\u001b[0m: axis 2 is out of bounds for array of dimension 1"
     ]
    }
   ],
   "source": [
    "# Ethnicity Confusion Matrix\n",
    "from sklearn.metrics import confusion_matrix\n",
    "import seaborn as sns\n",
    "\n",
    "cm = confusion_matrix(np.argmax(ethnicity_test_data_generator, axis=1), ethnicity_pred)\n",
    "sns.heatmap(cm, annot=True, fmt='g', xticklabels=race_mapping, yticklabels=race_mapping)\n",
    "plt.xlabel('Predicted')\n",
    "plt.ylabel('True')\n",
    "plt.title('Ethnicity Prediction Confusion Matrix')\n",
    "plt.show()"
   ]
  },
  {
   "cell_type": "code",
   "execution_count": null,
   "metadata": {},
   "outputs": [],
   "source": []
  },
  {
   "cell_type": "code",
   "execution_count": null,
   "metadata": {},
   "outputs": [],
   "source": []
  },
  {
   "cell_type": "code",
   "execution_count": null,
   "metadata": {},
   "outputs": [],
   "source": []
  },
  {
   "cell_type": "code",
   "execution_count": null,
   "metadata": {},
   "outputs": [],
   "source": []
  }
 ],
 "metadata": {
  "kernelspec": {
   "display_name": "Python 3",
   "language": "python",
   "name": "python3"
  },
  "language_info": {
   "codemirror_mode": {
    "name": "ipython",
    "version": 3
   },
   "file_extension": ".py",
   "mimetype": "text/x-python",
   "name": "python",
   "nbconvert_exporter": "python",
   "pygments_lexer": "ipython3",
   "version": "3.11.5"
  }
 },
 "nbformat": 4,
 "nbformat_minor": 2
}
