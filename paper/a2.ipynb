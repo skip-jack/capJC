{
 "cells": [
  {
   "cell_type": "code",
   "execution_count": 1,
   "metadata": {},
   "outputs": [
    {
     "name": "stdout",
     "output_type": "stream",
     "text": [
      "WARNING:tensorflow:From C:\\Users\\hvbvm\\AppData\\Roaming\\Python\\Python311\\site-packages\\keras\\src\\losses.py:2976: The name tf.losses.sparse_softmax_cross_entropy is deprecated. Please use tf.compat.v1.losses.sparse_softmax_cross_entropy instead.\n",
      "\n"
     ]
    }
   ],
   "source": [
    "# Importing necessary libraries\n",
    "import cv2\n",
    "import numpy as np\n",
    "import os\n",
    "from glob import glob\n",
    "from sklearn.model_selection import train_test_split\n",
    "import matplotlib.pyplot as plt\n",
    "from tensorflow.keras.models import Sequential\n",
    "from tensorflow.keras.layers import Conv2D, MaxPooling2D, Flatten, Dense\n",
    "from tensorflow.keras.utils import to_categorical, img_to_array\n",
    "import tensorflow as tf\n",
    "import pandas as pd\n",
    "from sklearn.metrics import accuracy_score, confusion_matrix\n",
    "import seaborn as sns\n",
    "\n",
    "# Checking TensorFlow version for compatibility\n",
    "tf_version = int(tf.__version__.split(\".\", maxsplit=1)[0])\n",
    "assert tf_version >= 2, \"This script requires TensorFlow 2.x\"\n",
    "\n"
   ]
  },
  {
   "cell_type": "code",
   "execution_count": 2,
   "metadata": {},
   "outputs": [],
   "source": [
    "\n",
    "# pre-processing functions\n",
    "def preprocess_image(image_path, size=(224, 224)):\n",
    "    img = cv2.imread(image_path)\n",
    "    img = cv2.cvtColor(img, cv2.COLOR_BGR2RGB)\n",
    "    img = cv2.resize(img, size)\n",
    "    return img_to_array(img) / 255.0\n",
    "\n",
    "def parse_labels(filename):\n",
    "    parts = os.path.basename(filename).split(\"_\")\n",
    "    if len(parts) < 3:\n",
    "        return None\n",
    "    return int(parts[0]), int(parts[1]), int(parts[2])\n",
    "\n",
    "def data_generator(file_paths, batch_size, preprocess_fn, label_fn):\n",
    "    while True:\n",
    "        batch_paths = np.random.choice(a=file_paths, size=batch_size)\n",
    "        batch_input = []\n",
    "        batch_output = []\n",
    "\n",
    "        for input_path in batch_paths:\n",
    "            labels = label_fn(input_path)\n",
    "            if labels is None:\n",
    "                continue\n",
    "            image = preprocess_fn(input_path)\n",
    "            batch_input.append(image)\n",
    "            batch_output.append(labels)\n",
    "\n",
    "        yield np.array(batch_input, dtype='float32'), np.array(batch_output)\n",
    "\n",
    "race_mapping = {\n",
    "    0: \"White\",\n",
    "    1: \"Black\",\n",
    "    2: \"Asian\",\n",
    "    3: \"Indian\",\n",
    "    4: \"Others\"\n",
    "}\n"
   ]
  },
  {
   "cell_type": "code",
   "execution_count": 3,
   "metadata": {},
   "outputs": [],
   "source": [
    "# Data Preparation\n",
    "images_directory = 'E:/capJC/paper/part1'  \n",
    "img_paths = glob(os.path.join(images_directory, \"*.jpg\"))\n",
    "\n",
    "# Splitting dataset into training, validation, and testing\n",
    "train_paths, test_paths = train_test_split(img_paths, test_size=0.45, random_state=42)\n",
    "valid_paths, test_paths = train_test_split(test_paths, test_size=(20/45), random_state=42)  \n",
    "\n",
    "# Define batch size\n",
    "batch_size = 128  # i.e. no. of images that is gonna be processed, at one time\n"
   ]
  },
  {
   "cell_type": "code",
   "execution_count": 4,
   "metadata": {},
   "outputs": [],
   "source": [
    "import os\n",
    "\n",
    "def extract_labels_from_filename(filename, trashy_file='trashy.csv'):\n",
    "    try:\n",
    "        parts = os.path.basename(filename).split('_')\n",
    "        if len(parts) < 4 or not parts[0].isdigit() or not parts[1] in ['0', '1'] or not parts[2].isdigit():\n",
    "            raise ValueError(\"Invalid filename format\")\n",
    "\n",
    "        age = int(parts[0])\n",
    "        gender = int(parts[1])  # 0 for male; 1 for female\n",
    "        race = int(parts[2])  # Assuming integer labels for races\n",
    "        return age, gender, race\n",
    "    except ValueError as e:\n",
    "        with open(trashy_file, 'a') as file:\n",
    "            file.write(filename + '\\n')\n",
    "        print(f\"Error processing file {filename}: {e}\")\n",
    "        return None, None, None  \n",
    "\n"
   ]
  },
  {
   "cell_type": "code",
   "execution_count": 5,
   "metadata": {},
   "outputs": [
    {
     "name": "stdout",
     "output_type": "stream",
     "text": [
      "WARNING:tensorflow:From C:\\Users\\hvbvm\\AppData\\Roaming\\Python\\Python311\\site-packages\\keras\\src\\backend.py:873: The name tf.get_default_graph is deprecated. Please use tf.compat.v1.get_default_graph instead.\n",
      "\n",
      "WARNING:tensorflow:From C:\\Users\\hvbvm\\AppData\\Roaming\\Python\\Python311\\site-packages\\keras\\src\\layers\\pooling\\max_pooling2d.py:161: The name tf.nn.max_pool is deprecated. Please use tf.nn.max_pool2d instead.\n",
      "\n",
      "WARNING:tensorflow:From C:\\Users\\hvbvm\\AppData\\Roaming\\Python\\Python311\\site-packages\\keras\\src\\optimizers\\__init__.py:309: The name tf.train.Optimizer is deprecated. Please use tf.compat.v1.train.Optimizer instead.\n",
      "\n"
     ]
    }
   ],
   "source": [
    "# Age Model\n",
    "age_model = Sequential([\n",
    "    Conv2D(32, (3, 3), activation='relu', input_shape=(224, 224, 3)),\n",
    "    MaxPooling2D(2, 2),\n",
    "    Flatten(),\n",
    "    Dense(128, activation='relu'),\n",
    "    Dense(1, name='age_output')\n",
    "])\n",
    "age_model.compile(optimizer='adam', loss='mse', metrics=['mae'])\n",
    "\n",
    "# Gender Model\n",
    "gender_model = Sequential([\n",
    "    Conv2D(32, (3, 3), activation='relu', input_shape=(224, 224, 3)),\n",
    "    MaxPooling2D(2, 2),\n",
    "    Flatten(),\n",
    "    Dense(128, activation='relu'),\n",
    "    Dense(1, activation='sigmoid', name='gender_output')\n",
    "])\n",
    "gender_model.compile(optimizer='adam', loss='binary_crossentropy', metrics=['accuracy'])\n"
   ]
  },
  {
   "cell_type": "code",
   "execution_count": 6,
   "metadata": {},
   "outputs": [],
   "source": [
    "# Race Model\n",
    "race_model = Sequential([\n",
    "    Conv2D(32, (3, 3), activation='relu', input_shape=(224, 224, 3)),\n",
    "    MaxPooling2D(2, 2),\n",
    "    Flatten(),\n",
    "    Dense(128, activation='relu'),\n",
    "    Dense(len(race_mapping), activation='softmax', name='race_output')\n",
    "])\n",
    "race_model.compile(optimizer='adam', loss='categorical_crossentropy', metrics=['accuracy'])"
   ]
  },
  {
   "cell_type": "code",
   "execution_count": 7,
   "metadata": {},
   "outputs": [],
   "source": [
    "def train_age_generator(train_paths, batch_size):\n",
    "    while True:\n",
    "        batch_paths = np.random.choice(a=train_paths, size=batch_size)\n",
    "        batch_images = []\n",
    "        batch_ages = []\n",
    "\n",
    "        for file_path in batch_paths:\n",
    "            age, _, _ = extract_labels_from_filename(os.path.basename(file_path))\n",
    "            if age is None:\n",
    "                continue  # Skip this file if age is None\n",
    "            image = preprocess_image(file_path)\n",
    "            batch_images.append(image)\n",
    "            batch_ages.append(age)\n",
    "\n",
    "        yield np.array(batch_images), np.array(batch_ages)\n",
    "\n",
    "def valid_age_generator(valid_paths, batch_size):\n",
    "    while True:\n",
    "        batch_paths = np.random.choice(a=valid_paths, size=batch_size)\n",
    "        batch_images = []\n",
    "        batch_ages = []\n",
    "\n",
    "        for file_path in batch_paths:\n",
    "            age, _, _ = extract_labels_from_filename(os.path.basename(file_path))\n",
    "            if age is None:\n",
    "                continue  # Skip this file if age is None\n",
    "            image = preprocess_image(file_path)\n",
    "            batch_images.append(image)\n",
    "            batch_ages.append(age)\n",
    "\n",
    "        yield np.array(batch_images), np.array(batch_ages)\n"
   ]
  },
  {
   "cell_type": "code",
   "execution_count": 8,
   "metadata": {},
   "outputs": [],
   "source": [
    "def train_gender_generator(train_paths, batch_size):\n",
    "    while True:\n",
    "        batch_images = []\n",
    "        batch_genders = []\n",
    "\n",
    "        for file_path in np.random.choice(train_paths, size=batch_size):\n",
    "            _, gender, _ = extract_labels_from_filename(os.path.basename(file_path))\n",
    "            if gender is None:\n",
    "                continue  # Skip this file if gender is None\n",
    "            image = preprocess_image(file_path)\n",
    "            batch_images.append(image)\n",
    "            batch_genders.append(gender)\n",
    "\n",
    "        yield np.array(batch_images), np.array(batch_genders)\n",
    "\n",
    "\n",
    "\n",
    "def valid_gender_generator(valid_paths, batch_size):\n",
    "    while True:\n",
    "        batch_images = []\n",
    "        batch_genders = []\n",
    "\n",
    "        for file_path in np.random.choice(a=valid_paths, size=batch_size):\n",
    "            _, gender, _ = extract_labels_from_filename(os.path.basename(file_path))\n",
    "            if gender is None:\n",
    "                continue  \n",
    "            image = preprocess_image(file_path)\n",
    "            batch_images.append(image)\n",
    "            batch_genders.append(gender)\n",
    "\n",
    "        yield np.array(batch_images), np.array(batch_genders)\n",
    "\n"
   ]
  },
  {
   "cell_type": "code",
   "execution_count": 9,
   "metadata": {},
   "outputs": [],
   "source": [
    "def train_race_generator(train_paths, batch_size):\n",
    "    while True:\n",
    "        batch_images = []\n",
    "        batch_races = []\n",
    "\n",
    "        for file_path in np.random.choice(a=train_paths, size=batch_size):\n",
    "            _, _, race = extract_labels_from_filename(os.path.basename(file_path))\n",
    "            if race is None:\n",
    "                continue  # Skip this file if race is None\n",
    "            image = preprocess_image(file_path)\n",
    "            batch_images.append(image)\n",
    "            batch_races.append(to_categorical(race, num_classes=len(race_mapping)))\n",
    "\n",
    "        yield np.array(batch_images), np.array(batch_races)\n",
    "\n",
    "\n",
    "def valid_race_generator(valid_paths, batch_size):\n",
    "    while True:\n",
    "        batch_images = []\n",
    "        batch_races = []\n",
    "\n",
    "        for file_path in np.random.choice(a=valid_paths, size=batch_size):\n",
    "            _, _, race = extract_labels_from_filename(os.path.basename(file_path))\n",
    "            if race is None:\n",
    "                continue  # Skip this file if race is None\n",
    "            image = preprocess_image(file_path)\n",
    "            batch_images.append(image)\n",
    "            batch_races.append(to_categorical(race, num_classes=len(race_mapping)))\n",
    "\n",
    "        yield np.array(batch_images), np.array(batch_races)\n"
   ]
  },
  {
   "cell_type": "code",
   "execution_count": 10,
   "metadata": {},
   "outputs": [
    {
     "name": "stdout",
     "output_type": "stream",
     "text": [
      "Epoch 1/10\n",
      "WARNING:tensorflow:From C:\\Users\\hvbvm\\AppData\\Roaming\\Python\\Python311\\site-packages\\keras\\src\\utils\\tf_utils.py:492: The name tf.ragged.RaggedTensorValue is deprecated. Please use tf.compat.v1.ragged.RaggedTensorValue instead.\n",
      "\n",
      "WARNING:tensorflow:From C:\\Users\\hvbvm\\AppData\\Roaming\\Python\\Python311\\site-packages\\keras\\src\\engine\\base_layer_utils.py:384: The name tf.executing_eagerly_outside_functions is deprecated. Please use tf.compat.v1.executing_eagerly_outside_functions instead.\n",
      "\n",
      "103/103 [==============================] - ETA: 0s - loss: 623.2198 - mae: 18.7007Error processing file 61_1_20170109142408075.jpg: Invalid filename format\n",
      "Error processing file 61_1_20170109142408075.jpg: Invalid filename format\n",
      "Error processing file 61_1_20170109142408075.jpg: Invalid filename format\n",
      "Error processing file 61_1_20170109142408075.jpg: Invalid filename format\n",
      "103/103 [==============================] - 216s 2s/step - loss: 623.2198 - mae: 18.7007 - val_loss: 394.0562 - val_mae: 14.8465\n",
      "Epoch 2/10\n",
      "103/103 [==============================] - ETA: 0s - loss: 358.4850 - mae: 14.6153Error processing file 61_1_20170109142408075.jpg: Invalid filename format\n",
      "103/103 [==============================] - 213s 2s/step - loss: 358.4850 - mae: 14.6153 - val_loss: 340.6069 - val_mae: 14.3215\n",
      "Epoch 3/10\n",
      "103/103 [==============================] - ETA: 0s - loss: 322.0810 - mae: 13.8798Error processing file 53__0_20170116184028385.jpg: Invalid filename format\n",
      "Error processing file 61_1_20170109142408075.jpg: Invalid filename format\n",
      "Error processing file 61_1_20170109142408075.jpg: Invalid filename format\n",
      "Error processing file 61_1_20170109142408075.jpg: Invalid filename format\n",
      "Error processing file 61_1_20170109142408075.jpg: Invalid filename format\n",
      "103/103 [==============================] - 202s 2s/step - loss: 322.0810 - mae: 13.8798 - val_loss: 338.7373 - val_mae: 13.8638\n",
      "Epoch 4/10\n",
      " 21/103 [=====>........................] - ETA: 1:50 - loss: 306.5359 - mae: 13.5290Error processing file 53__0_20170116184028385.jpg: Invalid filename format\n",
      " 84/103 [=======================>......] - ETA: 27s - loss: 286.4170 - mae: 13.0359Error processing file 53__0_20170116184028385.jpg: Invalid filename format\n",
      "103/103 [==============================] - 184s 2s/step - loss: 285.2230 - mae: 12.9998 - val_loss: 317.3098 - val_mae: 13.9836\n",
      "Epoch 5/10\n",
      " 27/103 [======>.......................] - ETA: 1:20 - loss: 269.3297 - mae: 12.6388Error processing file 53__0_20170116184028385.jpg: Invalid filename format\n",
      " 94/103 [==========================>...] - ETA: 11s - loss: 264.0761 - mae: 12.4891Error processing file 53__0_20170116184028385.jpg: Invalid filename format\n",
      "103/103 [==============================] - 173s 2s/step - loss: 261.9628 - mae: 12.4396 - val_loss: 333.9238 - val_mae: 13.9354\n",
      "Epoch 6/10\n",
      "103/103 [==============================] - ETA: 0s - loss: 225.8524 - mae: 11.5624Error processing file 61_1_20170109142408075.jpg: Invalid filename format\n",
      "103/103 [==============================] - 169s 2s/step - loss: 225.8524 - mae: 11.5624 - val_loss: 342.6297 - val_mae: 13.9790\n",
      "Epoch 7/10\n",
      "103/103 [==============================] - ETA: 0s - loss: 201.8180 - mae: 10.8770Error processing file 53__0_20170116184028385.jpg: Invalid filename format\n",
      "Error processing file 61_1_20170109142408075.jpg: Invalid filename format\n",
      "103/103 [==============================] - 170s 2s/step - loss: 201.8180 - mae: 10.8770 - val_loss: 322.4408 - val_mae: 13.5810\n",
      "Epoch 8/10\n",
      "103/103 [==============================] - ETA: 0s - loss: 180.6147 - mae: 10.3084Error processing file 53__0_20170116184028385.jpg: Invalid filename format\n",
      "Error processing file 61_1_20170109142408075.jpg: Invalid filename format\n",
      "Error processing file 61_1_20170109142408075.jpg: Invalid filename format\n",
      "Error processing file 61_1_20170109142408075.jpg: Invalid filename format\n",
      "103/103 [==============================] - 179s 2s/step - loss: 180.6147 - mae: 10.3084 - val_loss: 334.1038 - val_mae: 14.0091\n",
      "Epoch 9/10\n",
      " 92/103 [=========================>....] - ETA: 3:28 - loss: 156.1594 - mae: 9.4949Error processing file 53__0_20170116184028385.jpg: Invalid filename format\n",
      "103/103 [==============================] - ETA: 0s - loss: 154.7869 - mae: 9.4336 Error processing file 53__0_20170116184028385.jpg: Invalid filename format\n",
      "Error processing file 61_1_20170109142408075.jpg: Invalid filename format\n",
      "103/103 [==============================] - 1786s 17s/step - loss: 154.7869 - mae: 9.4336 - val_loss: 337.7538 - val_mae: 14.0068\n",
      "Epoch 10/10\n",
      " 60/103 [================>.............] - ETA: 58s - loss: 138.2923 - mae: 8.9626Error processing file 53__0_20170116184028385.jpg: Invalid filename format\n",
      "103/103 [==============================] - 187s 2s/step - loss: 135.7886 - mae: 8.8751 - val_loss: 325.1773 - val_mae: 13.7120\n",
      "Epoch 1/10\n",
      " 10/103 [=>............................] - ETA: 2:25 - loss: 5.9953 - accuracy: 0.5312Error processing file 53__0_20170116184028385.jpg: Invalid filename format\n",
      " 22/103 [=====>........................] - ETA: 2:12 - loss: 3.4873 - accuracy: 0.5321Error processing file 53__0_20170116184028385.jpg: Invalid filename format\n",
      "103/103 [==============================] - ETA: 0s - loss: 1.2533 - accuracy: 0.6202Error processing file 61_1_20170109142408075.jpg: Invalid filename format\n",
      "103/103 [==============================] - 215s 2s/step - loss: 1.2533 - accuracy: 0.6202 - val_loss: 0.6304 - val_accuracy: 0.6648\n",
      "Epoch 2/10\n",
      " 44/103 [===========>..................] - ETA: 1:37 - loss: 0.5223 - accuracy: 0.7459Error processing file 53__0_20170116184028385.jpg: Invalid filename format\n",
      " 55/103 [===============>..............] - ETA: 1:19 - loss: 0.5143 - accuracy: 0.7527Error processing file 53__0_20170116184028385.jpg: Invalid filename format\n",
      "103/103 [==============================] - 210s 2s/step - loss: 0.4907 - accuracy: 0.7666 - val_loss: 0.6074 - val_accuracy: 0.6809\n",
      "Epoch 3/10\n",
      " 99/103 [===========================>..] - ETA: 6s - loss: 0.3864 - accuracy: 0.8333Error processing file 53__0_20170116184028385.jpg: Invalid filename format\n",
      "103/103 [==============================] - ETA: 0s - loss: 0.3841 - accuracy: 0.8350Error processing file 61_1_20170109142408075.jpg: Invalid filename format\n",
      "Error processing file 61_1_20170109142408075.jpg: Invalid filename format\n",
      "103/103 [==============================] - 200s 2s/step - loss: 0.3841 - accuracy: 0.8350 - val_loss: 0.6339 - val_accuracy: 0.6926\n",
      "Epoch 4/10\n",
      "103/103 [==============================] - ETA: 0s - loss: 0.2820 - accuracy: 0.8912Error processing file 61_1_20170109142408075.jpg: Invalid filename format\n",
      "103/103 [==============================] - 202s 2s/step - loss: 0.2820 - accuracy: 0.8912 - val_loss: 0.6823 - val_accuracy: 0.6835\n",
      "Epoch 5/10\n",
      " 25/103 [======>.......................] - ETA: 1:30 - loss: 0.2237 - accuracy: 0.9169Error processing file 53__0_20170116184028385.jpg: Invalid filename format\n",
      "103/103 [==============================] - 195s 2s/step - loss: 0.2028 - accuracy: 0.9270 - val_loss: 0.7567 - val_accuracy: 0.7021\n",
      "Epoch 6/10\n",
      " 28/103 [=======>......................] - ETA: 1:28 - loss: 0.1735 - accuracy: 0.9378Error processing file 53__0_20170116184028385.jpg: Invalid filename format\n",
      "103/103 [==============================] - 194s 2s/step - loss: 0.1481 - accuracy: 0.9500 - val_loss: 0.8230 - val_accuracy: 0.7043\n",
      "Epoch 7/10\n",
      " 59/103 [================>.............] - ETA: 59s - loss: 0.1147 - accuracy: 0.9648 Error processing file 53__0_20170116184028385.jpg: Invalid filename format\n",
      "103/103 [==============================] - ETA: 0s - loss: 0.1046 - accuracy: 0.9694Error processing file 61_1_20170109142408075.jpg: Invalid filename format\n",
      "103/103 [==============================] - 189s 2s/step - loss: 0.1046 - accuracy: 0.9694 - val_loss: 0.9186 - val_accuracy: 0.6876\n",
      "Epoch 8/10\n",
      " 50/103 [=============>................] - ETA: 1:10 - loss: 0.0738 - accuracy: 0.9817Error processing file 53__0_20170116184028385.jpg: Invalid filename format\n",
      " 72/103 [===================>..........] - ETA: 42s - loss: 0.0746 - accuracy: 0.9820Error processing file 53__0_20170116184028385.jpg: Invalid filename format\n",
      "103/103 [==============================] - ETA: 0s - loss: 0.0717 - accuracy: 0.9825Error processing file 53__0_20170116184028385.jpg: Invalid filename format\n",
      "103/103 [==============================] - 190s 2s/step - loss: 0.0717 - accuracy: 0.9825 - val_loss: 0.9592 - val_accuracy: 0.6945\n",
      "Epoch 9/10\n",
      "103/103 [==============================] - ETA: 0s - loss: 0.0536 - accuracy: 0.9883Error processing file 53__0_20170116184028385.jpg: Invalid filename format\n",
      "Error processing file 61_1_20170109142408075.jpg: Invalid filename format\n",
      "Error processing file 61_1_20170109142408075.jpg: Invalid filename format\n",
      "Error processing file 61_1_20170109142408075.jpg: Invalid filename format\n",
      "103/103 [==============================] - 214s 2s/step - loss: 0.0536 - accuracy: 0.9883 - val_loss: 0.9881 - val_accuracy: 0.6957\n",
      "Epoch 10/10\n",
      " 64/103 [=================>............] - ETA: 1:01 - loss: 0.0403 - accuracy: 0.9915Error processing file 53__0_20170116184028385.jpg: Invalid filename format\n",
      "103/103 [==============================] - 209s 2s/step - loss: 0.0382 - accuracy: 0.9923 - val_loss: 1.1066 - val_accuracy: 0.6830\n",
      "Epoch 1/10\n",
      " 59/103 [================>.............] - ETA: 1:21 - loss: 5.1998 - accuracy: 0.3676Error processing file 53__0_20170116184028385.jpg: Invalid filename format\n",
      "103/103 [==============================] - ETA: 0s - loss: 3.5562 - accuracy: 0.4102Error processing file 61_1_20170109142408075.jpg: Invalid filename format\n",
      "103/103 [==============================] - 236s 2s/step - loss: 3.5562 - accuracy: 0.4102 - val_loss: 1.3671 - val_accuracy: 0.4489\n",
      "Epoch 2/10\n",
      " 42/103 [===========>..................] - ETA: 2:06 - loss: 1.2575 - accuracy: 0.5080Error processing file 53__0_20170116184028385.jpg: Invalid filename format\n",
      "103/103 [==============================] - ETA: 0s - loss: 1.1952 - accuracy: 0.5376Error processing file 61_1_20170109142408075.jpg: Invalid filename format\n",
      "103/103 [==============================] - 277s 3s/step - loss: 1.1952 - accuracy: 0.5376 - val_loss: 1.3582 - val_accuracy: 0.4605\n",
      "Epoch 3/10\n",
      "103/103 [==============================] - ETA: 0s - loss: 0.9348 - accuracy: 0.6658Error processing file 61_1_20170109142408075.jpg: Invalid filename format\n",
      "103/103 [==============================] - 280s 3s/step - loss: 0.9348 - accuracy: 0.6658 - val_loss: 1.3916 - val_accuracy: 0.4730\n",
      "Epoch 4/10\n",
      " 19/103 [====>.........................] - ETA: 2:27 - loss: 0.8068 - accuracy: 0.7212Error processing file 53__0_20170116184028385.jpg: Invalid filename format\n",
      "103/103 [==============================] - ETA: 0s - loss: 0.7149 - accuracy: 0.7612Error processing file 61_1_20170109142408075.jpg: Invalid filename format\n",
      "Error processing file 61_1_20170109142408075.jpg: Invalid filename format\n",
      "Error processing file 61_1_20170109142408075.jpg: Invalid filename format\n",
      "103/103 [==============================] - 221s 2s/step - loss: 0.7149 - accuracy: 0.7612 - val_loss: 1.5597 - val_accuracy: 0.4397\n",
      "Epoch 5/10\n",
      " 78/103 [=====================>........] - ETA: 39s - loss: 0.5410 - accuracy: 0.8327Error processing file 53__0_20170116184028385.jpg: Invalid filename format\n",
      "103/103 [==============================] - 209s 2s/step - loss: 0.5213 - accuracy: 0.8396 - val_loss: 1.6300 - val_accuracy: 0.4624\n",
      "Epoch 6/10\n",
      "103/103 [==============================] - ETA: 0s - loss: 0.3582 - accuracy: 0.9000Error processing file 61_1_20170109142408075.jpg: Invalid filename format\n",
      "Error processing file 61_1_20170109142408075.jpg: Invalid filename format\n",
      "103/103 [==============================] - 191s 2s/step - loss: 0.3582 - accuracy: 0.9000 - val_loss: 1.8901 - val_accuracy: 0.4544\n",
      "Epoch 7/10\n",
      " 95/103 [==========================>...] - ETA: 11s - loss: 0.2453 - accuracy: 0.9356Error processing file 53__0_20170116184028385.jpg: Invalid filename format\n",
      "103/103 [==============================] - ETA: 0s - loss: 0.2406 - accuracy: 0.9370Error processing file 61_1_20170109142408075.jpg: Invalid filename format\n",
      "Error processing file 53__0_20170116184028385.jpg: Invalid filename format\n",
      "103/103 [==============================] - 189s 2s/step - loss: 0.2406 - accuracy: 0.9370 - val_loss: 2.0505 - val_accuracy: 0.4406\n",
      "Epoch 8/10\n",
      " 50/103 [=============>................] - ETA: 1:09 - loss: 0.1855 - accuracy: 0.9584Error processing file 53__0_20170116184028385.jpg: Invalid filename format\n",
      " 74/103 [====================>.........] - ETA: 40s - loss: 0.1774 - accuracy: 0.9584Error processing file 53__0_20170116184028385.jpg: Invalid filename format\n",
      " 76/103 [=====================>........] - ETA: 38s - loss: 0.1762 - accuracy: 0.9588Error processing file 53__0_20170116184028385.jpg: Invalid filename format\n",
      "103/103 [==============================] - ETA: 0s - loss: 0.1659 - accuracy: 0.9615Error processing file 53__0_20170116184028385.jpg: Invalid filename format\n",
      "103/103 [==============================] - 188s 2s/step - loss: 0.1659 - accuracy: 0.9615 - val_loss: 2.2486 - val_accuracy: 0.4591\n",
      "Epoch 9/10\n",
      " 36/103 [=========>....................] - ETA: 1:23 - loss: 0.1253 - accuracy: 0.9711Error processing file 53__0_20170116184028385.jpg: Invalid filename format\n",
      "103/103 [==============================] - ETA: 0s - loss: 0.1148 - accuracy: 0.9767Error processing file 61_1_20170109142408075.jpg: Invalid filename format\n",
      "103/103 [==============================] - 186s 2s/step - loss: 0.1148 - accuracy: 0.9767 - val_loss: 2.4234 - val_accuracy: 0.4620\n",
      "Epoch 10/10\n",
      " 64/103 [=================>............] - ETA: 54s - loss: 0.0980 - accuracy: 0.9818Error processing file 53__0_20170116184028385.jpg: Invalid filename format\n",
      "103/103 [==============================] - 187s 2s/step - loss: 0.0911 - accuracy: 0.9826 - val_loss: 2.7641 - val_accuracy: 0.4428\n"
     ]
    }
   ],
   "source": [
    "\n",
    "# Corrected way to instantiate the generators\n",
    "age_train_generator = train_age_generator(train_paths, batch_size)\n",
    "age_valid_generator = valid_age_generator(valid_paths, batch_size)\n",
    "\n",
    "gender_train_generator = train_gender_generator(train_paths, batch_size)\n",
    "gender_valid_generator = valid_gender_generator(valid_paths, batch_size)\n",
    "\n",
    "race_train_generator = train_race_generator(train_paths, batch_size)\n",
    "race_valid_generator = valid_race_generator(valid_paths, batch_size)\n",
    "\n",
    "# Training Age Model\n",
    "history_age = age_model.fit(\n",
    "    age_train_generator,\n",
    "    steps_per_epoch=len(train_paths) // batch_size, \n",
    "    epochs=10,\n",
    "    validation_data=age_valid_generator,\n",
    "    validation_steps=len(valid_paths) // batch_size\n",
    ")\n",
    "\n",
    "# Training Gender Model\n",
    "history_gender = gender_model.fit(\n",
    "    gender_train_generator,\n",
    "    steps_per_epoch=len(train_paths) // batch_size, \n",
    "    epochs=10,\n",
    "    validation_data=gender_valid_generator,\n",
    "    validation_steps=len(valid_paths) // batch_size\n",
    ")\n",
    "\n",
    "# Training Race Model\n",
    "history_race = race_model.fit(\n",
    "    race_train_generator,\n",
    "    steps_per_epoch=len(train_paths) // batch_size, \n",
    "    epochs=10,\n",
    "    validation_data=race_valid_generator,\n",
    "    validation_steps=len(valid_paths) // batch_size\n",
    ")\n"
   ]
  },
  {
   "cell_type": "code",
   "execution_count": 11,
   "metadata": {},
   "outputs": [
    {
     "name": "stdout",
     "output_type": "stream",
     "text": [
      "Batch Images Shape: (128, 224, 224, 3)\n",
      "Batch Ages Shape: (128,)\n",
      "1/1 [==============================] - 1s 979ms/step - loss: 316.3598 - mae: 13.4198\n"
     ]
    }
   ],
   "source": [
    "def test_age_generator_debug(test_paths, batch_size):\n",
    "    batch_paths = test_paths[:batch_size]\n",
    "    batch_images = []\n",
    "    batch_ages = []\n",
    "\n",
    "    for file_path in batch_paths:\n",
    "        result = extract_labels_from_filename(file_path)\n",
    "        if result:\n",
    "            age, _, _ = result\n",
    "            image = preprocess_image(file_path)\n",
    "            batch_images.append(image)\n",
    "            batch_ages.append(age)\n",
    "\n",
    "    batch_images_np = np.array(batch_images)\n",
    "    batch_ages_np = np.array(batch_ages)\n",
    "\n",
    "    print(\"Batch Images Shape:\", batch_images_np.shape)\n",
    "    print(\"Batch Ages Shape:\", batch_ages_np.shape)\n",
    "\n",
    "    yield batch_images_np, batch_ages_np\n",
    "\n",
    "# debug generator:\n",
    "age_test_generator_debug = test_age_generator_debug(test_paths, batch_size)\n",
    "age_test_loss, age_test_mae = age_model.evaluate(age_test_generator_debug, steps=1)\n"
   ]
  },
  {
   "cell_type": "code",
   "execution_count": 12,
   "metadata": {},
   "outputs": [
    {
     "name": "stdout",
     "output_type": "stream",
     "text": [
      "Batch Images Shape: (128, 224, 224, 3)\n",
      "Batch Genders Shape: (128,)\n",
      "Batch Genders Type: int32\n",
      "1/1 [==============================] - 1s 501ms/step - loss: 1.1151 - accuracy: 0.6875\n"
     ]
    }
   ],
   "source": [
    "def test_gender_generator_debug(test_paths, batch_size):\n",
    "    batch_paths = test_paths[:batch_size]\n",
    "    batch_images = []\n",
    "    batch_genders = []\n",
    "\n",
    "    for file_path in batch_paths:\n",
    "        result = extract_labels_from_filename(file_path)\n",
    "        if result:\n",
    "            _, gender, _ = result\n",
    "            image = preprocess_image(file_path)\n",
    "            batch_images.append(image)\n",
    "            batch_genders.append(gender)\n",
    "\n",
    "    batch_images_np = np.array(batch_images)\n",
    "    batch_genders_np = np.array(batch_genders)\n",
    "\n",
    "    print(\"Batch Images Shape:\", batch_images_np.shape)\n",
    "    print(\"Batch Genders Shape:\", batch_genders_np.shape)\n",
    "    print(\"Batch Genders Type:\", batch_genders_np.dtype)\n",
    "\n",
    "    yield batch_images_np, batch_genders_np\n",
    "\n",
    "# Use the debug generator\n",
    "gender_test_generator_debug = test_gender_generator_debug(test_paths, batch_size)\n",
    "gender_test_loss, gender_test_accuracy = gender_model.evaluate(gender_test_generator_debug, steps=1)\n",
    "\n"
   ]
  },
  {
   "cell_type": "code",
   "execution_count": 13,
   "metadata": {},
   "outputs": [
    {
     "name": "stdout",
     "output_type": "stream",
     "text": [
      "Batch Images Shape: (128, 224, 224, 3)\n",
      "Batch Races Shape: (128, 5)\n",
      "Batch Races Type: float32\n",
      "1/1 [==============================] - 0s 293ms/step - loss: 2.4971 - accuracy: 0.4062\n"
     ]
    }
   ],
   "source": [
    "def test_race_generator_debug(test_paths, batch_size):\n",
    "    batch_paths = test_paths[:batch_size]\n",
    "    batch_images = []\n",
    "    batch_races = []\n",
    "\n",
    "    for file_path in batch_paths:\n",
    "        result = extract_labels_from_filename(file_path)\n",
    "        if result:\n",
    "            _, _, race = result\n",
    "            image = preprocess_image(file_path)\n",
    "            batch_images.append(image)\n",
    "            batch_races.append(to_categorical(race, num_classes=len(race_mapping)))\n",
    "\n",
    "    batch_images_np = np.array(batch_images)\n",
    "    batch_races_np = np.array(batch_races)\n",
    "\n",
    "    print(\"Batch Images Shape:\", batch_images_np.shape)\n",
    "    print(\"Batch Races Shape:\", batch_races_np.shape)\n",
    "    print(\"Batch Races Type:\", batch_races_np.dtype)\n",
    "\n",
    "    yield batch_images_np, batch_races_np\n",
    "\n",
    "# Use the debug generator\n",
    "race_test_generator_debug = test_race_generator_debug(test_paths, batch_size)\n",
    "race_test_loss, race_test_accuracy = race_model.evaluate(race_test_generator_debug, steps=1)\n"
   ]
  },
  {
   "cell_type": "code",
   "execution_count": 14,
   "metadata": {},
   "outputs": [
    {
     "name": "stderr",
     "output_type": "stream",
     "text": [
      "Evaluating Age Model:   0%|          | 0/38 [00:00<?, ?it/s]"
     ]
    },
    {
     "name": "stdout",
     "output_type": "stream",
     "text": [
      "4/4 [==============================] - 0s 74ms/step\n"
     ]
    },
    {
     "name": "stderr",
     "output_type": "stream",
     "text": [
      "Evaluating Age Model:   3%|▎         | 1/38 [00:01<00:46,  1.27s/it]"
     ]
    },
    {
     "name": "stdout",
     "output_type": "stream",
     "text": [
      "4/4 [==============================] - 0s 69ms/step\n"
     ]
    },
    {
     "name": "stderr",
     "output_type": "stream",
     "text": [
      "Evaluating Age Model:   5%|▌         | 2/38 [00:02<00:47,  1.33s/it]"
     ]
    },
    {
     "name": "stdout",
     "output_type": "stream",
     "text": [
      "4/4 [==============================] - 0s 74ms/step\n"
     ]
    },
    {
     "name": "stderr",
     "output_type": "stream",
     "text": [
      "Evaluating Age Model:   8%|▊         | 3/38 [00:03<00:44,  1.28s/it]"
     ]
    },
    {
     "name": "stdout",
     "output_type": "stream",
     "text": [
      "4/4 [==============================] - 0s 72ms/step\n"
     ]
    },
    {
     "name": "stderr",
     "output_type": "stream",
     "text": [
      "Evaluating Age Model:  11%|█         | 4/38 [00:04<00:39,  1.15s/it]"
     ]
    },
    {
     "name": "stdout",
     "output_type": "stream",
     "text": [
      "4/4 [==============================] - 0s 74ms/step\n"
     ]
    },
    {
     "name": "stderr",
     "output_type": "stream",
     "text": [
      "Evaluating Age Model:  13%|█▎        | 5/38 [00:05<00:36,  1.09s/it]"
     ]
    },
    {
     "name": "stdout",
     "output_type": "stream",
     "text": [
      "4/4 [==============================] - 0s 66ms/step\n"
     ]
    },
    {
     "name": "stderr",
     "output_type": "stream",
     "text": [
      "Evaluating Age Model:  16%|█▌        | 6/38 [00:07<00:37,  1.19s/it]"
     ]
    },
    {
     "name": "stdout",
     "output_type": "stream",
     "text": [
      "4/4 [==============================] - 0s 63ms/step\n"
     ]
    },
    {
     "name": "stderr",
     "output_type": "stream",
     "text": [
      "Evaluating Age Model:  18%|█▊        | 7/38 [00:08<00:41,  1.33s/it]"
     ]
    },
    {
     "name": "stdout",
     "output_type": "stream",
     "text": [
      "4/4 [==============================] - 0s 81ms/step\n"
     ]
    },
    {
     "name": "stderr",
     "output_type": "stream",
     "text": [
      "Evaluating Age Model:  21%|██        | 8/38 [00:09<00:36,  1.22s/it]"
     ]
    },
    {
     "name": "stdout",
     "output_type": "stream",
     "text": [
      "4/4 [==============================] - 0s 57ms/step\n"
     ]
    },
    {
     "name": "stderr",
     "output_type": "stream",
     "text": [
      "Evaluating Age Model:  24%|██▎       | 9/38 [00:10<00:31,  1.10s/it]"
     ]
    },
    {
     "name": "stdout",
     "output_type": "stream",
     "text": [
      "Error processing file E:/capJC/paper/part1\\61_3_20170109150557335.jpg: Invalid filename format\n",
      "4/4 [==============================] - 0s 61ms/step\n"
     ]
    },
    {
     "name": "stderr",
     "output_type": "stream",
     "text": [
      "Evaluating Age Model:  26%|██▋       | 10/38 [00:11<00:31,  1.13s/it]"
     ]
    },
    {
     "name": "stdout",
     "output_type": "stream",
     "text": [
      "4/4 [==============================] - 0s 60ms/step\n"
     ]
    },
    {
     "name": "stderr",
     "output_type": "stream",
     "text": [
      "Evaluating Age Model:  29%|██▉       | 11/38 [00:12<00:30,  1.12s/it]"
     ]
    },
    {
     "name": "stdout",
     "output_type": "stream",
     "text": [
      "4/4 [==============================] - 0s 68ms/step\n"
     ]
    },
    {
     "name": "stderr",
     "output_type": "stream",
     "text": [
      "Evaluating Age Model:  32%|███▏      | 12/38 [00:13<00:27,  1.07s/it]"
     ]
    },
    {
     "name": "stdout",
     "output_type": "stream",
     "text": [
      "4/4 [==============================] - 0s 57ms/step\n"
     ]
    },
    {
     "name": "stderr",
     "output_type": "stream",
     "text": [
      "Evaluating Age Model:  34%|███▍      | 13/38 [00:14<00:25,  1.03s/it]"
     ]
    },
    {
     "name": "stdout",
     "output_type": "stream",
     "text": [
      "4/4 [==============================] - 0s 61ms/step\n"
     ]
    },
    {
     "name": "stderr",
     "output_type": "stream",
     "text": [
      "Evaluating Age Model:  37%|███▋      | 14/38 [00:15<00:25,  1.07s/it]"
     ]
    },
    {
     "name": "stdout",
     "output_type": "stream",
     "text": [
      "4/4 [==============================] - 0s 65ms/step\n"
     ]
    },
    {
     "name": "stderr",
     "output_type": "stream",
     "text": [
      "Evaluating Age Model:  39%|███▉      | 15/38 [00:17<00:24,  1.06s/it]"
     ]
    },
    {
     "name": "stdout",
     "output_type": "stream",
     "text": [
      "4/4 [==============================] - 0s 63ms/step\n"
     ]
    },
    {
     "name": "stderr",
     "output_type": "stream",
     "text": [
      "Evaluating Age Model:  42%|████▏     | 16/38 [00:18<00:23,  1.06s/it]"
     ]
    },
    {
     "name": "stdout",
     "output_type": "stream",
     "text": [
      "Error processing file E:/capJC/paper/part1\\39_1_20170116174525125.jpg: Invalid filename format\n",
      "4/4 [==============================] - 0s 67ms/step\n"
     ]
    },
    {
     "name": "stderr",
     "output_type": "stream",
     "text": [
      "Evaluating Age Model:  45%|████▍     | 17/38 [00:19<00:21,  1.04s/it]"
     ]
    },
    {
     "name": "stdout",
     "output_type": "stream",
     "text": [
      "4/4 [==============================] - 0s 64ms/step\n"
     ]
    },
    {
     "name": "stderr",
     "output_type": "stream",
     "text": [
      "Evaluating Age Model:  47%|████▋     | 18/38 [00:20<00:21,  1.07s/it]"
     ]
    },
    {
     "name": "stdout",
     "output_type": "stream",
     "text": [
      "4/4 [==============================] - 0s 70ms/step\n"
     ]
    },
    {
     "name": "stderr",
     "output_type": "stream",
     "text": [
      "Evaluating Age Model:  50%|█████     | 19/38 [00:21<00:19,  1.04s/it]"
     ]
    },
    {
     "name": "stdout",
     "output_type": "stream",
     "text": [
      "4/4 [==============================] - 0s 61ms/step\n"
     ]
    },
    {
     "name": "stderr",
     "output_type": "stream",
     "text": [
      "Evaluating Age Model:  53%|█████▎    | 20/38 [00:22<00:18,  1.05s/it]"
     ]
    },
    {
     "name": "stdout",
     "output_type": "stream",
     "text": [
      "4/4 [==============================] - 0s 59ms/step\n"
     ]
    },
    {
     "name": "stderr",
     "output_type": "stream",
     "text": [
      "Evaluating Age Model:  55%|█████▌    | 21/38 [00:23<00:17,  1.02s/it]"
     ]
    },
    {
     "name": "stdout",
     "output_type": "stream",
     "text": [
      "4/4 [==============================] - 0s 59ms/step\n"
     ]
    },
    {
     "name": "stderr",
     "output_type": "stream",
     "text": [
      "Evaluating Age Model:  58%|█████▊    | 22/38 [00:24<00:17,  1.08s/it]"
     ]
    },
    {
     "name": "stdout",
     "output_type": "stream",
     "text": [
      "4/4 [==============================] - 0s 58ms/step\n"
     ]
    },
    {
     "name": "stderr",
     "output_type": "stream",
     "text": [
      "Evaluating Age Model:  61%|██████    | 23/38 [00:25<00:16,  1.10s/it]"
     ]
    },
    {
     "name": "stdout",
     "output_type": "stream",
     "text": [
      "4/4 [==============================] - 0s 61ms/step\n"
     ]
    },
    {
     "name": "stderr",
     "output_type": "stream",
     "text": [
      "Evaluating Age Model:  63%|██████▎   | 24/38 [00:26<00:15,  1.08s/it]"
     ]
    },
    {
     "name": "stdout",
     "output_type": "stream",
     "text": [
      "4/4 [==============================] - 0s 58ms/step\n"
     ]
    },
    {
     "name": "stderr",
     "output_type": "stream",
     "text": [
      "Evaluating Age Model:  66%|██████▌   | 25/38 [00:27<00:13,  1.03s/it]"
     ]
    },
    {
     "name": "stdout",
     "output_type": "stream",
     "text": [
      "4/4 [==============================] - 0s 62ms/step\n"
     ]
    },
    {
     "name": "stderr",
     "output_type": "stream",
     "text": [
      "Evaluating Age Model:  68%|██████▊   | 26/38 [00:28<00:12,  1.06s/it]"
     ]
    },
    {
     "name": "stdout",
     "output_type": "stream",
     "text": [
      "4/4 [==============================] - 0s 63ms/step\n"
     ]
    },
    {
     "name": "stderr",
     "output_type": "stream",
     "text": [
      "Evaluating Age Model:  71%|███████   | 27/38 [00:29<00:10,  1.00it/s]"
     ]
    },
    {
     "name": "stdout",
     "output_type": "stream",
     "text": [
      "4/4 [==============================] - 0s 61ms/step\n"
     ]
    },
    {
     "name": "stderr",
     "output_type": "stream",
     "text": [
      "Evaluating Age Model:  74%|███████▎  | 28/38 [00:30<00:10,  1.02s/it]"
     ]
    },
    {
     "name": "stdout",
     "output_type": "stream",
     "text": [
      "4/4 [==============================] - 0s 57ms/step\n"
     ]
    },
    {
     "name": "stderr",
     "output_type": "stream",
     "text": [
      "Evaluating Age Model:  76%|███████▋  | 29/38 [00:31<00:08,  1.02it/s]"
     ]
    },
    {
     "name": "stdout",
     "output_type": "stream",
     "text": [
      "4/4 [==============================] - 0s 69ms/step\n"
     ]
    },
    {
     "name": "stderr",
     "output_type": "stream",
     "text": [
      "Evaluating Age Model:  79%|███████▉  | 30/38 [00:32<00:08,  1.00s/it]"
     ]
    },
    {
     "name": "stdout",
     "output_type": "stream",
     "text": [
      "4/4 [==============================] - 0s 61ms/step\n"
     ]
    },
    {
     "name": "stderr",
     "output_type": "stream",
     "text": [
      "Evaluating Age Model:  82%|████████▏ | 31/38 [00:33<00:07,  1.02s/it]"
     ]
    },
    {
     "name": "stdout",
     "output_type": "stream",
     "text": [
      "4/4 [==============================] - 0s 63ms/step\n"
     ]
    },
    {
     "name": "stderr",
     "output_type": "stream",
     "text": [
      "Evaluating Age Model:  84%|████████▍ | 32/38 [00:34<00:06,  1.03s/it]"
     ]
    },
    {
     "name": "stdout",
     "output_type": "stream",
     "text": [
      "4/4 [==============================] - 0s 61ms/step\n"
     ]
    },
    {
     "name": "stderr",
     "output_type": "stream",
     "text": [
      "Evaluating Age Model:  87%|████████▋ | 33/38 [00:35<00:05,  1.00s/it]"
     ]
    },
    {
     "name": "stdout",
     "output_type": "stream",
     "text": [
      "4/4 [==============================] - 0s 56ms/step\n"
     ]
    },
    {
     "name": "stderr",
     "output_type": "stream",
     "text": [
      "Evaluating Age Model:  89%|████████▉ | 34/38 [00:36<00:03,  1.03it/s]"
     ]
    },
    {
     "name": "stdout",
     "output_type": "stream",
     "text": [
      "4/4 [==============================] - 0s 67ms/step\n"
     ]
    },
    {
     "name": "stderr",
     "output_type": "stream",
     "text": [
      "Evaluating Age Model:  92%|█████████▏| 35/38 [00:37<00:03,  1.01s/it]"
     ]
    },
    {
     "name": "stdout",
     "output_type": "stream",
     "text": [
      "4/4 [==============================] - 0s 55ms/step\n"
     ]
    },
    {
     "name": "stderr",
     "output_type": "stream",
     "text": [
      "Evaluating Age Model:  95%|█████████▍| 36/38 [00:38<00:01,  1.01it/s]"
     ]
    },
    {
     "name": "stdout",
     "output_type": "stream",
     "text": [
      "4/4 [==============================] - 0s 62ms/step\n"
     ]
    },
    {
     "name": "stderr",
     "output_type": "stream",
     "text": [
      "Evaluating Age Model:  97%|█████████▋| 37/38 [00:39<00:00,  1.03it/s]"
     ]
    },
    {
     "name": "stdout",
     "output_type": "stream",
     "text": [
      "3/3 [==============================] - 0s 56ms/step\n"
     ]
    },
    {
     "name": "stderr",
     "output_type": "stream",
     "text": [
      "Evaluating Age Model: 100%|██████████| 38/38 [00:40<00:00,  1.06s/it]"
     ]
    },
    {
     "name": "stdout",
     "output_type": "stream",
     "text": [
      "Age Model MAE: 14.189058303931937\n"
     ]
    },
    {
     "name": "stderr",
     "output_type": "stream",
     "text": [
      "\n"
     ]
    },
    {
     "data": {
      "image/png": "[encoded data removed]",
      "text/plain": [
       "<Figure size 1000x600 with 1 Axes>"
      ]
     },
     "metadata": {},
     "output_type": "display_data"
    }
   ],
   "source": [
    "%matplotlib inline\n",
    "import matplotlib.pyplot as plt\n",
    "import numpy as np\n",
    "from sklearn.metrics import mean_absolute_error\n",
    "from tqdm import tqdm\n",
    "\n",
    "\n",
    "def evaluate_age_model(test_paths, age_model, batch_size):\n",
    "    actual_ages = []\n",
    "    predicted_ages = []\n",
    "    try:\n",
    "        for i in tqdm(range(0, len(test_paths), batch_size), desc='Evaluating Age Model'):\n",
    "            batch_paths = test_paths[i:i+batch_size]\n",
    "            batch_images = []\n",
    "            batch_labels = []\n",
    "            for path in batch_paths:\n",
    "                result = extract_labels_from_filename(path)\n",
    "                if result:\n",
    "                    age, _, _ = result\n",
    "                    if age is not None:  \n",
    "                        image = preprocess_image(path)\n",
    "                        batch_images.append(image)\n",
    "                        batch_labels.append(age)\n",
    "            if batch_images:\n",
    "                batch_images_np = np.array(batch_images)\n",
    "                predictions = age_model.predict(batch_images_np)\n",
    "                predicted_ages_batch = np.squeeze(predictions).tolist()\n",
    "                \n",
    "                if isinstance(predicted_ages_batch, float):\n",
    "                    predicted_ages.append(predicted_ages_batch)\n",
    "                else:\n",
    "                    predicted_ages.extend(predicted_ages_batch)\n",
    "                actual_ages.extend(batch_labels)\n",
    "    except Exception as e:\n",
    "        print(f\"An error occurred: {e}\")\n",
    "        return [], []\n",
    "\n",
    "    return actual_ages, [pred if pred is not None else np.nan for pred in predicted_ages]  \n",
    "\n",
    "actual_ages, predicted_ages = evaluate_age_model(test_paths, age_model, batch_size)\n",
    "\n",
    "if all(age is not None for age in actual_ages) and all(age is not None for age in predicted_ages):\n",
    "    try:\n",
    "        age_mae = mean_absolute_error(actual_ages, predicted_ages)\n",
    "        print(\"Age Model MAE:\", age_mae)\n",
    "\n",
    "        # Plotting the age predictions\n",
    "        plt.figure(figsize=(10, 6))\n",
    "        plt.scatter(actual_ages, predicted_ages, alpha=0.6)\n",
    "        plt.plot([0, 100], [0, 100], 'r--')  # Ideal line where predicted age==actual age\n",
    "        plt.xlabel('Actual Age')\n",
    "        plt.ylabel('Predicted Age')\n",
    "        plt.title('Age Prediction Performance')\n",
    "        plt.grid(True)\n",
    "        plt.show()\n",
    "    except ValueError as e:\n",
    "        print(f\"ValueError: {e}\")\n",
    "else:\n",
    "    print(\"Data contains None values which cannot be processed.\")\n",
    "\n"
   ]
  },
  {
   "cell_type": "code",
   "execution_count": 15,
   "metadata": {},
   "outputs": [
    {
     "name": "stderr",
     "output_type": "stream",
     "text": [
      "Evaluating Gender Model:   0%|          | 0/38 [00:00<?, ?it/s]"
     ]
    },
    {
     "name": "stdout",
     "output_type": "stream",
     "text": [
      "4/4 [==============================] - 0s 79ms/step\n"
     ]
    },
    {
     "name": "stderr",
     "output_type": "stream",
     "text": [
      "Evaluating Gender Model:   3%|▎         | 1/38 [00:01<00:42,  1.15s/it]"
     ]
    },
    {
     "name": "stdout",
     "output_type": "stream",
     "text": [
      "4/4 [==============================] - 0s 85ms/step\n"
     ]
    },
    {
     "name": "stderr",
     "output_type": "stream",
     "text": [
      "Evaluating Gender Model:   5%|▌         | 2/38 [00:02<00:45,  1.28s/it]"
     ]
    },
    {
     "name": "stdout",
     "output_type": "stream",
     "text": [
      "4/4 [==============================] - 0s 81ms/step\n"
     ]
    },
    {
     "name": "stderr",
     "output_type": "stream",
     "text": [
      "Evaluating Gender Model:   8%|▊         | 3/38 [00:03<00:45,  1.31s/it]"
     ]
    },
    {
     "name": "stdout",
     "output_type": "stream",
     "text": [
      "4/4 [==============================] - 0s 87ms/step\n"
     ]
    },
    {
     "name": "stderr",
     "output_type": "stream",
     "text": [
      "Evaluating Gender Model:  11%|█         | 4/38 [00:04<00:40,  1.20s/it]"
     ]
    },
    {
     "name": "stdout",
     "output_type": "stream",
     "text": [
      "4/4 [==============================] - 0s 90ms/step\n"
     ]
    },
    {
     "name": "stderr",
     "output_type": "stream",
     "text": [
      "Evaluating Gender Model:  13%|█▎        | 5/38 [00:05<00:38,  1.16s/it]"
     ]
    },
    {
     "name": "stdout",
     "output_type": "stream",
     "text": [
      "4/4 [==============================] - 0s 75ms/step\n"
     ]
    },
    {
     "name": "stderr",
     "output_type": "stream",
     "text": [
      "Evaluating Gender Model:  16%|█▌        | 6/38 [00:07<00:39,  1.24s/it]"
     ]
    },
    {
     "name": "stdout",
     "output_type": "stream",
     "text": [
      "4/4 [==============================] - 0s 85ms/step\n"
     ]
    },
    {
     "name": "stderr",
     "output_type": "stream",
     "text": [
      "Evaluating Gender Model:  18%|█▊        | 7/38 [00:09<00:44,  1.43s/it]"
     ]
    },
    {
     "name": "stdout",
     "output_type": "stream",
     "text": [
      "4/4 [==============================] - 0s 85ms/step\n"
     ]
    },
    {
     "name": "stderr",
     "output_type": "stream",
     "text": [
      "Evaluating Gender Model:  21%|██        | 8/38 [00:10<00:39,  1.32s/it]"
     ]
    },
    {
     "name": "stdout",
     "output_type": "stream",
     "text": [
      "4/4 [==============================] - 0s 93ms/step\n"
     ]
    },
    {
     "name": "stderr",
     "output_type": "stream",
     "text": [
      "Evaluating Gender Model:  24%|██▎       | 9/38 [00:11<00:35,  1.22s/it]"
     ]
    },
    {
     "name": "stdout",
     "output_type": "stream",
     "text": [
      "Error processing file E:/capJC/paper/part1\\61_3_20170109150557335.jpg: Invalid filename format\n",
      "4/4 [==============================] - 0s 72ms/step\n"
     ]
    },
    {
     "name": "stderr",
     "output_type": "stream",
     "text": [
      "Evaluating Gender Model:  26%|██▋       | 10/38 [00:12<00:33,  1.20s/it]"
     ]
    },
    {
     "name": "stdout",
     "output_type": "stream",
     "text": [
      "4/4 [==============================] - 0s 79ms/step\n"
     ]
    },
    {
     "name": "stderr",
     "output_type": "stream",
     "text": [
      "Evaluating Gender Model:  29%|██▉       | 11/38 [00:13<00:32,  1.21s/it]"
     ]
    },
    {
     "name": "stdout",
     "output_type": "stream",
     "text": [
      "4/4 [==============================] - 0s 74ms/step\n"
     ]
    },
    {
     "name": "stderr",
     "output_type": "stream",
     "text": [
      "Evaluating Gender Model:  32%|███▏      | 12/38 [00:14<00:29,  1.15s/it]"
     ]
    },
    {
     "name": "stdout",
     "output_type": "stream",
     "text": [
      "4/4 [==============================] - 0s 90ms/step\n"
     ]
    },
    {
     "name": "stderr",
     "output_type": "stream",
     "text": [
      "Evaluating Gender Model:  34%|███▍      | 13/38 [00:15<00:28,  1.13s/it]"
     ]
    },
    {
     "name": "stdout",
     "output_type": "stream",
     "text": [
      "4/4 [==============================] - 0s 73ms/step\n"
     ]
    },
    {
     "name": "stderr",
     "output_type": "stream",
     "text": [
      "Evaluating Gender Model:  37%|███▋      | 14/38 [00:17<00:27,  1.16s/it]"
     ]
    },
    {
     "name": "stdout",
     "output_type": "stream",
     "text": [
      "4/4 [==============================] - 0s 76ms/step\n"
     ]
    },
    {
     "name": "stderr",
     "output_type": "stream",
     "text": [
      "Evaluating Gender Model:  39%|███▉      | 15/38 [00:18<00:27,  1.19s/it]"
     ]
    },
    {
     "name": "stdout",
     "output_type": "stream",
     "text": [
      "4/4 [==============================] - 0s 76ms/step\n"
     ]
    },
    {
     "name": "stderr",
     "output_type": "stream",
     "text": [
      "Evaluating Gender Model:  42%|████▏     | 16/38 [00:19<00:25,  1.16s/it]"
     ]
    },
    {
     "name": "stdout",
     "output_type": "stream",
     "text": [
      "Error processing file E:/capJC/paper/part1\\39_1_20170116174525125.jpg: Invalid filename format\n",
      "4/4 [==============================] - 0s 77ms/step\n"
     ]
    },
    {
     "name": "stderr",
     "output_type": "stream",
     "text": [
      "Evaluating Gender Model:  45%|████▍     | 17/38 [00:20<00:23,  1.14s/it]"
     ]
    },
    {
     "name": "stdout",
     "output_type": "stream",
     "text": [
      "4/4 [==============================] - 0s 79ms/step\n"
     ]
    },
    {
     "name": "stderr",
     "output_type": "stream",
     "text": [
      "Evaluating Gender Model:  47%|████▋     | 18/38 [00:21<00:23,  1.16s/it]"
     ]
    },
    {
     "name": "stdout",
     "output_type": "stream",
     "text": [
      "4/4 [==============================] - 0s 77ms/step\n"
     ]
    },
    {
     "name": "stderr",
     "output_type": "stream",
     "text": [
      "Evaluating Gender Model:  50%|█████     | 19/38 [00:22<00:21,  1.14s/it]"
     ]
    },
    {
     "name": "stdout",
     "output_type": "stream",
     "text": [
      "4/4 [==============================] - 0s 83ms/step\n"
     ]
    },
    {
     "name": "stderr",
     "output_type": "stream",
     "text": [
      "Evaluating Gender Model:  53%|█████▎    | 20/38 [00:23<00:20,  1.16s/it]"
     ]
    },
    {
     "name": "stdout",
     "output_type": "stream",
     "text": [
      "4/4 [==============================] - 0s 90ms/step\n"
     ]
    },
    {
     "name": "stderr",
     "output_type": "stream",
     "text": [
      "Evaluating Gender Model:  55%|█████▌    | 21/38 [00:25<00:19,  1.15s/it]"
     ]
    },
    {
     "name": "stdout",
     "output_type": "stream",
     "text": [
      "4/4 [==============================] - 0s 75ms/step\n"
     ]
    },
    {
     "name": "stderr",
     "output_type": "stream",
     "text": [
      "Evaluating Gender Model:  58%|█████▊    | 22/38 [00:26<00:19,  1.20s/it]"
     ]
    },
    {
     "name": "stdout",
     "output_type": "stream",
     "text": [
      "4/4 [==============================] - 0s 88ms/step\n"
     ]
    },
    {
     "name": "stderr",
     "output_type": "stream",
     "text": [
      "Evaluating Gender Model:  61%|██████    | 23/38 [00:27<00:18,  1.24s/it]"
     ]
    },
    {
     "name": "stdout",
     "output_type": "stream",
     "text": [
      "4/4 [==============================] - 0s 87ms/step\n"
     ]
    },
    {
     "name": "stderr",
     "output_type": "stream",
     "text": [
      "Evaluating Gender Model:  63%|██████▎   | 24/38 [00:28<00:17,  1.23s/it]"
     ]
    },
    {
     "name": "stdout",
     "output_type": "stream",
     "text": [
      "4/4 [==============================] - 0s 75ms/step\n"
     ]
    },
    {
     "name": "stderr",
     "output_type": "stream",
     "text": [
      "Evaluating Gender Model:  66%|██████▌   | 25/38 [00:29<00:14,  1.14s/it]"
     ]
    },
    {
     "name": "stdout",
     "output_type": "stream",
     "text": [
      "4/4 [==============================] - 0s 105ms/step\n"
     ]
    },
    {
     "name": "stderr",
     "output_type": "stream",
     "text": [
      "Evaluating Gender Model:  68%|██████▊   | 26/38 [00:31<00:14,  1.22s/it]"
     ]
    },
    {
     "name": "stdout",
     "output_type": "stream",
     "text": [
      "4/4 [==============================] - 0s 91ms/step\n"
     ]
    },
    {
     "name": "stderr",
     "output_type": "stream",
     "text": [
      "Evaluating Gender Model:  71%|███████   | 27/38 [00:32<00:13,  1.19s/it]"
     ]
    },
    {
     "name": "stdout",
     "output_type": "stream",
     "text": [
      "4/4 [==============================] - 0s 87ms/step\n"
     ]
    },
    {
     "name": "stderr",
     "output_type": "stream",
     "text": [
      "Evaluating Gender Model:  74%|███████▎  | 28/38 [00:33<00:12,  1.21s/it]"
     ]
    },
    {
     "name": "stdout",
     "output_type": "stream",
     "text": [
      "4/4 [==============================] - 0s 82ms/step\n"
     ]
    },
    {
     "name": "stderr",
     "output_type": "stream",
     "text": [
      "Evaluating Gender Model:  76%|███████▋  | 29/38 [00:34<00:10,  1.13s/it]"
     ]
    },
    {
     "name": "stdout",
     "output_type": "stream",
     "text": [
      "4/4 [==============================] - 0s 95ms/step\n"
     ]
    },
    {
     "name": "stderr",
     "output_type": "stream",
     "text": [
      "Evaluating Gender Model:  79%|███████▉  | 30/38 [00:35<00:09,  1.16s/it]"
     ]
    },
    {
     "name": "stdout",
     "output_type": "stream",
     "text": [
      "4/4 [==============================] - 0s 80ms/step\n"
     ]
    },
    {
     "name": "stderr",
     "output_type": "stream",
     "text": [
      "Evaluating Gender Model:  82%|████████▏ | 31/38 [00:36<00:08,  1.16s/it]"
     ]
    },
    {
     "name": "stdout",
     "output_type": "stream",
     "text": [
      "4/4 [==============================] - 0s 89ms/step\n"
     ]
    },
    {
     "name": "stderr",
     "output_type": "stream",
     "text": [
      "Evaluating Gender Model:  84%|████████▍ | 32/38 [00:38<00:07,  1.19s/it]"
     ]
    },
    {
     "name": "stdout",
     "output_type": "stream",
     "text": [
      "4/4 [==============================] - 0s 82ms/step\n"
     ]
    },
    {
     "name": "stderr",
     "output_type": "stream",
     "text": [
      "Evaluating Gender Model:  87%|████████▋ | 33/38 [00:39<00:05,  1.15s/it]"
     ]
    },
    {
     "name": "stdout",
     "output_type": "stream",
     "text": [
      "4/4 [==============================] - 0s 92ms/step\n"
     ]
    },
    {
     "name": "stderr",
     "output_type": "stream",
     "text": [
      "Evaluating Gender Model:  89%|████████▉ | 34/38 [00:40<00:04,  1.14s/it]"
     ]
    },
    {
     "name": "stdout",
     "output_type": "stream",
     "text": [
      "4/4 [==============================] - 0s 92ms/step\n"
     ]
    },
    {
     "name": "stderr",
     "output_type": "stream",
     "text": [
      "Evaluating Gender Model:  92%|█████████▏| 35/38 [00:41<00:03,  1.20s/it]"
     ]
    },
    {
     "name": "stdout",
     "output_type": "stream",
     "text": [
      "4/4 [==============================] - 0s 92ms/step\n"
     ]
    },
    {
     "name": "stderr",
     "output_type": "stream",
     "text": [
      "Evaluating Gender Model:  95%|█████████▍| 36/38 [00:42<00:02,  1.18s/it]"
     ]
    },
    {
     "name": "stdout",
     "output_type": "stream",
     "text": [
      "4/4 [==============================] - 0s 87ms/step\n"
     ]
    },
    {
     "name": "stderr",
     "output_type": "stream",
     "text": [
      "Evaluating Gender Model:  97%|█████████▋| 37/38 [00:43<00:01,  1.14s/it]"
     ]
    },
    {
     "name": "stdout",
     "output_type": "stream",
     "text": [
      "3/3 [==============================] - 0s 69ms/step\n"
     ]
    },
    {
     "name": "stderr",
     "output_type": "stream",
     "text": [
      "Evaluating Gender Model: 100%|██████████| 38/38 [00:44<00:00,  1.18s/it]"
     ]
    },
    {
     "name": "stdout",
     "output_type": "stream",
     "text": [
      "Gender Model Accuracy: 0.6850622406639004\n"
     ]
    },
    {
     "name": "stderr",
     "output_type": "stream",
     "text": [
      "\n"
     ]
    },
    {
     "data": {
      "image/png": "[encoded data removed]",
      "text/plain": [
       "<Figure size 640x480 with 2 Axes>"
      ]
     },
     "metadata": {},
     "output_type": "display_data"
    }
   ],
   "source": [
    "%matplotlib inline\n",
    "import matplotlib.pyplot as plt\n",
    "import seaborn as sns\n",
    "import numpy as np\n",
    "from sklearn.metrics import accuracy_score, confusion_matrix\n",
    "from tqdm import tqdm\n",
    "\n",
    "\n",
    "\n",
    "def evaluate_gender_model(test_paths, gender_model, batch_size):\n",
    "    actual_genders = []\n",
    "    predicted_genders = []\n",
    "    try:\n",
    "        for i in tqdm(range(0, len(test_paths), batch_size), desc='Evaluating Gender Model'):\n",
    "            batch_paths = test_paths[i:i+batch_size]\n",
    "            batch_images = []\n",
    "            batch_labels = []\n",
    "            for path in batch_paths:\n",
    "                result = extract_labels_from_filename(path)\n",
    "                if result:\n",
    "                    _, gender, _ = result\n",
    "                    if gender in [0, 1]:  # Ensure gender is binary\n",
    "                        image = preprocess_image(path)\n",
    "                        batch_images.append(image)\n",
    "                        batch_labels.append(gender)\n",
    "            if batch_images:\n",
    "                batch_images_np = np.array(batch_images)\n",
    "                predicted_genders_batch = gender_model.predict(batch_images_np).squeeze()\n",
    "                predicted_genders.extend([int(prob > 0.5) for prob in predicted_genders_batch])\n",
    "                actual_genders.extend(batch_labels)\n",
    "    except Exception as e:\n",
    "        print(f\"An error occurred: {e}\")\n",
    "        return [], []\n",
    "\n",
    "    return actual_genders, predicted_genders\n",
    "\n",
    "actual_genders, predicted_genders = evaluate_gender_model(test_paths, gender_model, batch_size)\n",
    "\n",
    "# Ensure the lists only contain binary values\n",
    "if all(gender in [0, 1] for gender in actual_genders + predicted_genders):\n",
    "    try:\n",
    "        gender_accuracy = accuracy_score(actual_genders, predicted_genders)\n",
    "        print(\"Gender Model Accuracy:\", gender_accuracy)\n",
    "\n",
    "        conf_matrix = confusion_matrix(actual_genders, predicted_genders)\n",
    "        sns.heatmap(conf_matrix, annot=True, fmt='g', cmap='Blues')\n",
    "        plt.xlabel('Predicted')\n",
    "        plt.ylabel('Actual')\n",
    "        plt.title('Gender Prediction Confusion Matrix')\n",
    "        plt.show()\n",
    "    except ValueError as e:\n",
    "        print(f\"ValueError: {e}\")\n",
    "else:\n",
    "    print(\"Data contains invalid values (not binary).\")\n",
    "\n"
   ]
  },
  {
   "cell_type": "code",
   "execution_count": 16,
   "metadata": {},
   "outputs": [
    {
     "name": "stderr",
     "output_type": "stream",
     "text": [
      "Evaluating Race Model:   0%|          | 0/38 [00:00<?, ?it/s]"
     ]
    },
    {
     "name": "stdout",
     "output_type": "stream",
     "text": [
      "4/4 [==============================] - 0s 89ms/step\n"
     ]
    },
    {
     "name": "stderr",
     "output_type": "stream",
     "text": [
      "Evaluating Race Model:   3%|▎         | 1/38 [00:01<00:41,  1.13s/it]"
     ]
    },
    {
     "name": "stdout",
     "output_type": "stream",
     "text": [
      "4/4 [==============================] - 0s 87ms/step\n"
     ]
    },
    {
     "name": "stderr",
     "output_type": "stream",
     "text": [
      "Evaluating Race Model:   5%|▌         | 2/38 [00:02<00:46,  1.29s/it]"
     ]
    },
    {
     "name": "stdout",
     "output_type": "stream",
     "text": [
      "4/4 [==============================] - 0s 86ms/step\n"
     ]
    },
    {
     "name": "stderr",
     "output_type": "stream",
     "text": [
      "Evaluating Race Model:   8%|▊         | 3/38 [00:03<00:44,  1.26s/it]"
     ]
    },
    {
     "name": "stdout",
     "output_type": "stream",
     "text": [
      "4/4 [==============================] - 0s 83ms/step\n"
     ]
    },
    {
     "name": "stderr",
     "output_type": "stream",
     "text": [
      "Evaluating Race Model:  11%|█         | 4/38 [00:04<00:38,  1.14s/it]"
     ]
    },
    {
     "name": "stdout",
     "output_type": "stream",
     "text": [
      "4/4 [==============================] - 0s 92ms/step\n"
     ]
    },
    {
     "name": "stderr",
     "output_type": "stream",
     "text": [
      "Evaluating Race Model:  13%|█▎        | 5/38 [00:05<00:35,  1.08s/it]"
     ]
    },
    {
     "name": "stdout",
     "output_type": "stream",
     "text": [
      "4/4 [==============================] - 0s 80ms/step\n"
     ]
    },
    {
     "name": "stderr",
     "output_type": "stream",
     "text": [
      "Evaluating Race Model:  16%|█▌        | 6/38 [00:07<00:38,  1.19s/it]"
     ]
    },
    {
     "name": "stdout",
     "output_type": "stream",
     "text": [
      "4/4 [==============================] - 0s 90ms/step\n"
     ]
    },
    {
     "name": "stderr",
     "output_type": "stream",
     "text": [
      "Evaluating Race Model:  18%|█▊        | 7/38 [00:08<00:43,  1.39s/it]"
     ]
    },
    {
     "name": "stdout",
     "output_type": "stream",
     "text": [
      "4/4 [==============================] - 0s 90ms/step\n"
     ]
    },
    {
     "name": "stderr",
     "output_type": "stream",
     "text": [
      "Evaluating Race Model:  21%|██        | 8/38 [00:09<00:38,  1.29s/it]"
     ]
    },
    {
     "name": "stdout",
     "output_type": "stream",
     "text": [
      "4/4 [==============================] - 0s 83ms/step\n"
     ]
    },
    {
     "name": "stderr",
     "output_type": "stream",
     "text": [
      "Evaluating Race Model:  24%|██▎       | 9/38 [00:10<00:34,  1.18s/it]"
     ]
    },
    {
     "name": "stdout",
     "output_type": "stream",
     "text": [
      "Error processing file E:/capJC/paper/part1\\61_3_20170109150557335.jpg: Invalid filename format\n",
      "4/4 [==============================] - 0s 94ms/step\n"
     ]
    },
    {
     "name": "stderr",
     "output_type": "stream",
     "text": [
      "Evaluating Race Model:  26%|██▋       | 10/38 [00:12<00:34,  1.22s/it]"
     ]
    },
    {
     "name": "stdout",
     "output_type": "stream",
     "text": [
      "4/4 [==============================] - 0s 93ms/step\n"
     ]
    },
    {
     "name": "stderr",
     "output_type": "stream",
     "text": [
      "Evaluating Race Model:  29%|██▉       | 11/38 [00:13<00:33,  1.23s/it]"
     ]
    },
    {
     "name": "stdout",
     "output_type": "stream",
     "text": [
      "4/4 [==============================] - 0s 81ms/step\n"
     ]
    },
    {
     "name": "stderr",
     "output_type": "stream",
     "text": [
      "Evaluating Race Model:  32%|███▏      | 12/38 [00:14<00:30,  1.15s/it]"
     ]
    },
    {
     "name": "stdout",
     "output_type": "stream",
     "text": [
      "4/4 [==============================] - 0s 87ms/step\n"
     ]
    },
    {
     "name": "stderr",
     "output_type": "stream",
     "text": [
      "Evaluating Race Model:  34%|███▍      | 13/38 [00:15<00:27,  1.12s/it]"
     ]
    },
    {
     "name": "stdout",
     "output_type": "stream",
     "text": [
      "4/4 [==============================] - 0s 83ms/step\n"
     ]
    },
    {
     "name": "stderr",
     "output_type": "stream",
     "text": [
      "Evaluating Race Model:  37%|███▋      | 14/38 [00:16<00:27,  1.15s/it]"
     ]
    },
    {
     "name": "stdout",
     "output_type": "stream",
     "text": [
      "4/4 [==============================] - 0s 91ms/step\n"
     ]
    },
    {
     "name": "stderr",
     "output_type": "stream",
     "text": [
      "Evaluating Race Model:  39%|███▉      | 15/38 [00:17<00:26,  1.15s/it]"
     ]
    },
    {
     "name": "stdout",
     "output_type": "stream",
     "text": [
      "4/4 [==============================] - 0s 80ms/step\n"
     ]
    },
    {
     "name": "stderr",
     "output_type": "stream",
     "text": [
      "Evaluating Race Model:  42%|████▏     | 16/38 [00:18<00:24,  1.13s/it]"
     ]
    },
    {
     "name": "stdout",
     "output_type": "stream",
     "text": [
      "Error processing file E:/capJC/paper/part1\\39_1_20170116174525125.jpg: Invalid filename format\n",
      "4/4 [==============================] - 0s 83ms/step\n"
     ]
    },
    {
     "name": "stderr",
     "output_type": "stream",
     "text": [
      "Evaluating Race Model:  45%|████▍     | 17/38 [00:20<00:23,  1.11s/it]"
     ]
    },
    {
     "name": "stdout",
     "output_type": "stream",
     "text": [
      "4/4 [==============================] - 0s 79ms/step\n"
     ]
    },
    {
     "name": "stderr",
     "output_type": "stream",
     "text": [
      "Evaluating Race Model:  47%|████▋     | 18/38 [00:21<00:22,  1.12s/it]"
     ]
    },
    {
     "name": "stdout",
     "output_type": "stream",
     "text": [
      "4/4 [==============================] - 0s 91ms/step\n"
     ]
    },
    {
     "name": "stderr",
     "output_type": "stream",
     "text": [
      "Evaluating Race Model:  50%|█████     | 19/38 [00:22<00:20,  1.09s/it]"
     ]
    },
    {
     "name": "stdout",
     "output_type": "stream",
     "text": [
      "4/4 [==============================] - 0s 83ms/step\n"
     ]
    },
    {
     "name": "stderr",
     "output_type": "stream",
     "text": [
      "Evaluating Race Model:  53%|█████▎    | 20/38 [00:23<00:19,  1.09s/it]"
     ]
    },
    {
     "name": "stdout",
     "output_type": "stream",
     "text": [
      "4/4 [==============================] - 0s 83ms/step\n"
     ]
    },
    {
     "name": "stderr",
     "output_type": "stream",
     "text": [
      "Evaluating Race Model:  55%|█████▌    | 21/38 [00:24<00:18,  1.07s/it]"
     ]
    },
    {
     "name": "stdout",
     "output_type": "stream",
     "text": [
      "4/4 [==============================] - 0s 82ms/step\n"
     ]
    },
    {
     "name": "stderr",
     "output_type": "stream",
     "text": [
      "Evaluating Race Model:  58%|█████▊    | 22/38 [00:25<00:18,  1.13s/it]"
     ]
    },
    {
     "name": "stdout",
     "output_type": "stream",
     "text": [
      "4/4 [==============================] - 0s 86ms/step\n"
     ]
    },
    {
     "name": "stderr",
     "output_type": "stream",
     "text": [
      "Evaluating Race Model:  61%|██████    | 23/38 [00:26<00:17,  1.16s/it]"
     ]
    },
    {
     "name": "stdout",
     "output_type": "stream",
     "text": [
      "4/4 [==============================] - 0s 106ms/step\n"
     ]
    },
    {
     "name": "stderr",
     "output_type": "stream",
     "text": [
      "Evaluating Race Model:  63%|██████▎   | 24/38 [00:27<00:16,  1.16s/it]"
     ]
    },
    {
     "name": "stdout",
     "output_type": "stream",
     "text": [
      "4/4 [==============================] - 0s 88ms/step\n"
     ]
    },
    {
     "name": "stderr",
     "output_type": "stream",
     "text": [
      "Evaluating Race Model:  66%|██████▌   | 25/38 [00:28<00:14,  1.11s/it]"
     ]
    },
    {
     "name": "stdout",
     "output_type": "stream",
     "text": [
      "4/4 [==============================] - 0s 85ms/step\n"
     ]
    },
    {
     "name": "stderr",
     "output_type": "stream",
     "text": [
      "Evaluating Race Model:  68%|██████▊   | 26/38 [00:30<00:13,  1.15s/it]"
     ]
    },
    {
     "name": "stdout",
     "output_type": "stream",
     "text": [
      "4/4 [==============================] - 0s 89ms/step\n"
     ]
    },
    {
     "name": "stderr",
     "output_type": "stream",
     "text": [
      "Evaluating Race Model:  71%|███████   | 27/38 [00:31<00:11,  1.09s/it]"
     ]
    },
    {
     "name": "stdout",
     "output_type": "stream",
     "text": [
      "4/4 [==============================] - 0s 82ms/step\n"
     ]
    },
    {
     "name": "stderr",
     "output_type": "stream",
     "text": [
      "Evaluating Race Model:  74%|███████▎  | 28/38 [00:32<00:10,  1.09s/it]"
     ]
    },
    {
     "name": "stdout",
     "output_type": "stream",
     "text": [
      "4/4 [==============================] - 0s 87ms/step\n"
     ]
    },
    {
     "name": "stderr",
     "output_type": "stream",
     "text": [
      "Evaluating Race Model:  76%|███████▋  | 29/38 [00:33<00:09,  1.05s/it]"
     ]
    },
    {
     "name": "stdout",
     "output_type": "stream",
     "text": [
      "4/4 [==============================] - 0s 98ms/step\n"
     ]
    },
    {
     "name": "stderr",
     "output_type": "stream",
     "text": [
      "Evaluating Race Model:  79%|███████▉  | 30/38 [00:34<00:08,  1.06s/it]"
     ]
    },
    {
     "name": "stdout",
     "output_type": "stream",
     "text": [
      "4/4 [==============================] - 0s 88ms/step\n"
     ]
    },
    {
     "name": "stderr",
     "output_type": "stream",
     "text": [
      "Evaluating Race Model:  82%|████████▏ | 31/38 [00:35<00:07,  1.08s/it]"
     ]
    },
    {
     "name": "stdout",
     "output_type": "stream",
     "text": [
      "4/4 [==============================] - 0s 87ms/step\n"
     ]
    },
    {
     "name": "stderr",
     "output_type": "stream",
     "text": [
      "Evaluating Race Model:  84%|████████▍ | 32/38 [00:36<00:06,  1.09s/it]"
     ]
    },
    {
     "name": "stdout",
     "output_type": "stream",
     "text": [
      "4/4 [==============================] - 0s 82ms/step\n"
     ]
    },
    {
     "name": "stderr",
     "output_type": "stream",
     "text": [
      "Evaluating Race Model:  87%|████████▋ | 33/38 [00:37<00:05,  1.06s/it]"
     ]
    },
    {
     "name": "stdout",
     "output_type": "stream",
     "text": [
      "4/4 [==============================] - 0s 76ms/step\n"
     ]
    },
    {
     "name": "stderr",
     "output_type": "stream",
     "text": [
      "Evaluating Race Model:  89%|████████▉ | 34/38 [00:38<00:04,  1.03s/it]"
     ]
    },
    {
     "name": "stdout",
     "output_type": "stream",
     "text": [
      "4/4 [==============================] - 0s 83ms/step\n"
     ]
    },
    {
     "name": "stderr",
     "output_type": "stream",
     "text": [
      "Evaluating Race Model:  92%|█████████▏| 35/38 [00:39<00:03,  1.05s/it]"
     ]
    },
    {
     "name": "stdout",
     "output_type": "stream",
     "text": [
      "4/4 [==============================] - 0s 102ms/step\n"
     ]
    },
    {
     "name": "stderr",
     "output_type": "stream",
     "text": [
      "Evaluating Race Model:  95%|█████████▍| 36/38 [00:40<00:02,  1.05s/it]"
     ]
    },
    {
     "name": "stdout",
     "output_type": "stream",
     "text": [
      "4/4 [==============================] - 0s 87ms/step\n"
     ]
    },
    {
     "name": "stderr",
     "output_type": "stream",
     "text": [
      "Evaluating Race Model:  97%|█████████▋| 37/38 [00:41<00:01,  1.03s/it]"
     ]
    },
    {
     "name": "stdout",
     "output_type": "stream",
     "text": [
      "3/3 [==============================] - 0s 76ms/step\n"
     ]
    },
    {
     "name": "stderr",
     "output_type": "stream",
     "text": [
      "Evaluating Race Model: 100%|██████████| 38/38 [00:42<00:00,  1.11s/it]"
     ]
    },
    {
     "name": "stdout",
     "output_type": "stream",
     "text": [
      "Race Model Accuracy: 0.4483402489626556\n"
     ]
    },
    {
     "name": "stderr",
     "output_type": "stream",
     "text": [
      "\n"
     ]
    },
    {
     "data": {
      "image/png": "[encoded data removed]",
      "text/plain": [
       "<Figure size 640x480 with 2 Axes>"
      ]
     },
     "metadata": {},
     "output_type": "display_data"
    }
   ],
   "source": [
    "\n",
    "%matplotlib inline\n",
    "import matplotlib.pyplot as plt\n",
    "import seaborn as sns\n",
    "import numpy as np\n",
    "from sklearn.metrics import accuracy_score, confusion_matrix\n",
    "from tqdm import tqdm\n",
    "\n",
    "\n",
    "\n",
    "def evaluate_race_model(test_paths, race_model, batch_size):\n",
    "    actual_races = []\n",
    "    predicted_races = []\n",
    "    try:\n",
    "        for i in tqdm(range(0, len(test_paths), batch_size), desc='Evaluating Race Model'):\n",
    "            batch_paths = test_paths[i:i+batch_size]\n",
    "            batch_images = []\n",
    "            batch_labels = []\n",
    "            for path in batch_paths:\n",
    "                result = extract_labels_from_filename(path)\n",
    "                if result:\n",
    "                    _, _, race = result\n",
    "                    if race in range(5):  # Assuming 5 classes for race\n",
    "                        image = preprocess_image(path)\n",
    "                        batch_images.append(image)\n",
    "                        batch_labels.append(race)\n",
    "            if batch_images:\n",
    "                batch_images_np = np.array(batch_images)\n",
    "                predicted_races_batch = race_model.predict(batch_images_np).argmax(axis=-1)\n",
    "                actual_races.extend(batch_labels)\n",
    "                predicted_races.extend(predicted_races_batch.tolist())\n",
    "    except Exception as e:\n",
    "        print(f\"An error occurred: {e}\")\n",
    "        return [], []\n",
    "\n",
    "    return actual_races, predicted_races\n",
    "\n",
    "actual_races, predicted_races = evaluate_race_model(test_paths, race_model, batch_size)\n",
    "\n",
    "if actual_races and predicted_races:\n",
    "    \n",
    "    known_labels = set(range(5))  # Assuming 5 classes for race\n",
    "    if not set(actual_races).issubset(known_labels) or not set(predicted_races).issubset(known_labels):\n",
    "        print(\"Unknown labels found.\")\n",
    "    else:\n",
    "        try:\n",
    "            race_accuracy = accuracy_score(actual_races, predicted_races)\n",
    "            print(\"Race Model Accuracy:\", race_accuracy)\n",
    "\n",
    "            conf_matrix = confusion_matrix(actual_races, predicted_races)\n",
    "            sns.heatmap(conf_matrix, annot=True, fmt='g', cmap='Blues')\n",
    "            plt.xlabel('Predicted')\n",
    "            plt.ylabel('Actual')\n",
    "            plt.title('Race Prediction Confusion Matrix')\n",
    "            plt.show()\n",
    "        except ValueError as e:\n",
    "            print(f\"ValueError: {e}\")\n",
    "else:\n",
    "    print(\"No data to plot or mismatch in the length of actual and predicted lists.\")\n",
    "\n"
   ]
  }
 ],
 "metadata": {
  "kernelspec": {
   "display_name": "Python 3",
   "language": "python",
   "name": "python3"
  },
  "language_info": {
   "codemirror_mode": {
    "name": "ipython",
    "version": 3
   },
   "file_extension": ".py",
   "mimetype": "text/x-python",
   "name": "python",
   "nbconvert_exporter": "python",
   "pygments_lexer": "ipython3",
   "version": "3.11.5"
  }
 },
 "nbformat": 4,
 "nbformat_minor": 2
}
